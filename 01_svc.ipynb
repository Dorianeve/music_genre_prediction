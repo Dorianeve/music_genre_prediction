{
 "cells": [
  {
   "cell_type": "markdown",
   "metadata": {},
   "source": [
    "# Support Vector Classifier"
   ]
  },
  {
   "cell_type": "code",
   "execution_count": 100,
   "metadata": {},
   "outputs": [],
   "source": [
    "## Load libraries\n",
    "from sklearn.preprocessing import StandardScaler\n",
    "from sklearn.model_selection import train_test_split\n",
    "from sklearn.model_selection import cross_val_score\n",
    "from sklearn.model_selection import learning_curve\n",
    "from sklearn.model_selection import GridSearchCV\n",
    "from sklearn.svm import SVC\n",
    "from sklearn.svm import LinearSVC\n",
    "\n",
    "import sys\n",
    "import os\n",
    "import pandas as pd\n",
    "import numpy as np\n",
    "import matplotlib.pyplot as plt\n",
    "import seaborn as sn\n",
    "%matplotlib inline\n",
    "\n",
    "from sklearn.metrics import confusion_matrix\n",
    "from sklearn.metrics import f1_score\n",
    "from sklearn.metrics import hamming_loss\n",
    "from sklearn.metrics import classification_report\n",
    "from sklearn.metrics import confusion_matrix\n",
    "from sklearn.metrics import accuracy_score\n"
   ]
  },
  {
   "cell_type": "code",
   "execution_count": 101,
   "metadata": {},
   "outputs": [],
   "source": [
    "## retrieve variables\n",
    "%store -r raw_data\n",
    "%store -r raw_data_uncorr"
   ]
  },
  {
   "cell_type": "code",
   "execution_count": 102,
   "metadata": {},
   "outputs": [],
   "source": [
    "## SVC with complete data\n",
    "## devide train test tentative with stratification to keep the distribution\n",
    "## raw_data parames [28] / raw_data_uncorr [24]\n",
    "X = raw_data_uncorr.iloc[:,:24]\n",
    "Y = raw_data_uncorr.iloc[:,24]\n",
    "\n",
    "## the dataset is relatively small, so we keep a division: 65% train / 35% test\n",
    "X_train, X_test, y_train, y_test = train_test_split(X,Y,\n",
    "                                                   test_size=0.35,\n",
    "                                                   stratify=Y)        "
   ]
  },
  {
   "cell_type": "code",
   "execution_count": 103,
   "metadata": {},
   "outputs": [],
   "source": [
    "## scaling train and test dataset with StandardScaler since our distribution are normal more or less\n",
    "X_train = pd.DataFrame(StandardScaler().fit_transform(X_train))\n",
    "X_test = pd.DataFrame(StandardScaler().fit_transform(X_test))"
   ]
  },
  {
   "cell_type": "markdown",
   "metadata": {},
   "source": [
    "SVC is usually a binary classifier, however SVC, LinearSVC and NuSVC can implement the \"one-versus-one\" approach for multiclass classification. \"decision_function_shape\" parameter allows to transform the results to \"one-vs-rest\" (of shape n_samples, n_classes)"
   ]
  },
  {
   "cell_type": "code",
   "execution_count": 104,
   "metadata": {},
   "outputs": [
    {
     "name": "stderr",
     "output_type": "stream",
     "text": [
      "[Parallel(n_jobs=-1)]: Using backend LokyBackend with 8 concurrent workers.\n",
      "[Parallel(n_jobs=-1)]: Batch computation too fast (0.0319s.) Setting batch_size=2.\n",
      "[Parallel(n_jobs=-1)]: Done   3 out of  10 | elapsed:    0.1s remaining:    0.2s\n",
      "[Parallel(n_jobs=-1)]: Done   5 out of  10 | elapsed:    0.1s remaining:    0.1s\n",
      "[Parallel(n_jobs=-1)]: Done   7 out of  10 | elapsed:    0.1s remaining:    0.1s\n",
      "[Parallel(n_jobs=-1)]: Done  10 out of  10 | elapsed:    0.1s finished\n"
     ]
    },
    {
     "data": {
      "text/plain": [
       "'Accuracy media: 0.645'"
      ]
     },
     "execution_count": 104,
     "metadata": {},
     "output_type": "execute_result"
    }
   ],
   "source": [
    "## we do not have a linear separable dataset it seems, therefore we try with radial kernel (first attempt with default parameters)\n",
    "svm_rbf_clf = SVC(kernel = 'rbf', C = 1.0, gamma = 'scale', decision_function_shape = 'ovo')\n",
    "svm_rbf_score = cross_val_score(svm_rbf_clf, X_train, y_train, cv = 10, n_jobs = -1, verbose = 10)\n",
    "'Accuracy media: {:0.3f}'.format(np.mean(svm_rbf_score))"
   ]
  },
  {
   "cell_type": "code",
   "execution_count": 105,
   "metadata": {},
   "outputs": [
    {
     "name": "stderr",
     "output_type": "stream",
     "text": [
      "[Parallel(n_jobs=-1)]: Using backend LokyBackend with 8 concurrent workers.\n",
      "[Parallel(n_jobs=-1)]: Batch computation too fast (0.0317s.) Setting batch_size=2.\n",
      "[Parallel(n_jobs=-1)]: Done   3 out of  10 | elapsed:    0.1s remaining:    0.1s\n",
      "[Parallel(n_jobs=-1)]: Done   5 out of  10 | elapsed:    0.1s remaining:    0.1s\n",
      "[Parallel(n_jobs=-1)]: Done   7 out of  10 | elapsed:    0.1s remaining:    0.0s\n",
      "[Parallel(n_jobs=-1)]: Done  10 out of  10 | elapsed:    0.1s finished\n"
     ]
    },
    {
     "data": {
      "text/plain": [
       "'Accuracy media: 0.565'"
      ]
     },
     "execution_count": 105,
     "metadata": {},
     "output_type": "execute_result"
    }
   ],
   "source": [
    "## run the 'poly' kernel with default parameters\n",
    "svm_poly_clf = SVC(kernel=\"poly\", degree=3, coef0=0.0, C=1, decision_function_shape = 'ovo')\n",
    "svm_poly_scores = cross_val_score(svm_poly_clf, X_train, y_train, cv=10, n_jobs = -1, verbose = 10)\n",
    "'Accuracy media: {:0.3f}'.format(np.mean(svm_poly_scores))"
   ]
  },
  {
   "cell_type": "code",
   "execution_count": 106,
   "metadata": {},
   "outputs": [
    {
     "name": "stderr",
     "output_type": "stream",
     "text": [
      "[Parallel(n_jobs=-1)]: Using backend LokyBackend with 8 concurrent workers.\n",
      "[Parallel(n_jobs=-1)]: Batch computation too fast (0.0385s.) Setting batch_size=2.\n",
      "[Parallel(n_jobs=-1)]: Done   3 out of  10 | elapsed:    0.1s remaining:    0.1s\n",
      "[Parallel(n_jobs=-1)]: Done   5 out of  10 | elapsed:    0.1s remaining:    0.1s\n",
      "[Parallel(n_jobs=-1)]: Done   7 out of  10 | elapsed:    0.1s remaining:    0.0s\n",
      "[Parallel(n_jobs=-1)]: Done  10 out of  10 | elapsed:    0.1s finished\n"
     ]
    },
    {
     "data": {
      "text/plain": [
       "'Accuracy media: 0.472'"
      ]
     },
     "execution_count": 106,
     "metadata": {},
     "output_type": "execute_result"
    }
   ],
   "source": [
    "## run the 'sigmoid' kernel with default parameters\n",
    "svm_poly_clf = SVC(kernel=\"sigmoid\", coef0=0.0, C=1, decision_function_shape = 'ovo')\n",
    "svm_poly_scores = cross_val_score(svm_poly_clf, X_train, y_train, cv=10, n_jobs = -1, verbose = 10)\n",
    "'Accuracy media: {:0.3f}'.format(np.mean(svm_poly_scores))"
   ]
  },
  {
   "cell_type": "code",
   "execution_count": 107,
   "metadata": {},
   "outputs": [
    {
     "name": "stderr",
     "output_type": "stream",
     "text": [
      "[Parallel(n_jobs=-1)]: Using backend LokyBackend with 8 concurrent workers.\n",
      "[Parallel(n_jobs=-1)]: Batch computation too fast (0.0636s.) Setting batch_size=2.\n",
      "[Parallel(n_jobs=-1)]: Done   3 out of  10 | elapsed:    0.1s remaining:    0.2s\n",
      "[Parallel(n_jobs=-1)]: Done   5 out of  10 | elapsed:    0.1s remaining:    0.1s\n",
      "[Parallel(n_jobs=-1)]: Done   7 out of  10 | elapsed:    0.1s remaining:    0.1s\n",
      "[Parallel(n_jobs=-1)]: Done  10 out of  10 | elapsed:    0.2s finished\n"
     ]
    },
    {
     "data": {
      "text/plain": [
       "'Accuracy media: 0.617'"
      ]
     },
     "execution_count": 107,
     "metadata": {},
     "output_type": "execute_result"
    }
   ],
   "source": [
    "## cross check with linear kernel\n",
    "svm_lnr_clf = SVC(kernel='linear', C=3.60, verbose = 10, decision_function_shape = 'ovo')\n",
    "svm_lnr_scores = cross_val_score(svm_lnr_clf, X_train, y_train, cv=10, n_jobs = -1, verbose = 10)\n",
    "'Accuracy media: {:0.3f}'.format(np.mean(svm_lnr_scores))"
   ]
  },
  {
   "cell_type": "code",
   "execution_count": 108,
   "metadata": {},
   "outputs": [
    {
     "name": "stderr",
     "output_type": "stream",
     "text": [
      "[Parallel(n_jobs=-1)]: Using backend LokyBackend with 8 concurrent workers.\n",
      "[Parallel(n_jobs=-1)]: Done   3 out of  10 | elapsed:    0.3s remaining:    0.6s\n",
      "[Parallel(n_jobs=-1)]: Done   5 out of  10 | elapsed:    0.3s remaining:    0.3s\n",
      "[Parallel(n_jobs=-1)]: Done   7 out of  10 | elapsed:    0.3s remaining:    0.1s\n",
      "[Parallel(n_jobs=-1)]: Done  10 out of  10 | elapsed:    0.4s finished\n"
     ]
    },
    {
     "data": {
      "text/plain": [
       "'Accuracy media: 0.603'"
      ]
     },
     "execution_count": 108,
     "metadata": {},
     "output_type": "execute_result"
    }
   ],
   "source": [
    "## one vs rest approach\n",
    "svclnr_clf = LinearSVC()\n",
    "svclnr_clf_scores = cross_val_score(svclnr_clf, X_train, y_train, cv=10, n_jobs = -1, verbose = 10)\n",
    "'Accuracy media: {:0.3f}'.format(np.mean(svclnr_clf_scores))"
   ]
  },
  {
   "cell_type": "markdown",
   "metadata": {},
   "source": [
    "The mean accuracy of the model run with default parameters flags that the best model might be the SVC with RBF kernel. SVC with linear kernel performed well, so digging a bit more on parameters tuning will help to improve the accuracy of the predictions."
   ]
  },
  {
   "cell_type": "code",
   "execution_count": 83,
   "metadata": {},
   "outputs": [
    {
     "data": {
      "text/plain": [
       "GridSearchCV(cv=20, estimator=SVC(), n_jobs=-1,\n",
       "             param_grid=[{'C': [0.1, 2.66, 1000], 'gamma': [0.05, 0.09, 0.1],\n",
       "                          'kernel': ['rbf']},\n",
       "                         {'C': [0.1, 2.66, 1000], 'kernel': ['linear']}])"
      ]
     },
     "execution_count": 83,
     "metadata": {},
     "output_type": "execute_result"
    }
   ],
   "source": [
    "## parameters tuning\n",
    "param_grid = [\n",
    "    {'kernel': ['rbf'], 'gamma': [.05, .09, .10], 'C': [0.1, 2.66, 1000]},\n",
    "    {'kernel': ['linear'], 'C': [0.1, 2.66, 1000]}\n",
    "\n",
    "]\n",
    "\n",
    "svm_clf = SVC()\n",
    "\n",
    "grid_search = GridSearchCV(estimator=svm_clf,\n",
    "                           param_grid = param_grid,\n",
    "                           cv = 20,\n",
    "                           n_jobs = -1\n",
    ")\n",
    "\n",
    "grid_search.fit(X_train, y_train)"
   ]
  },
  {
   "cell_type": "code",
   "execution_count": 84,
   "metadata": {},
   "outputs": [
    {
     "data": {
      "text/plain": [
       "{'C': 2.66, 'gamma': 0.1, 'kernel': 'rbf'}"
      ]
     },
     "execution_count": 84,
     "metadata": {},
     "output_type": "execute_result"
    }
   ],
   "source": [
    "grid_search.best_params_"
   ]
  },
  {
   "cell_type": "code",
   "execution_count": 85,
   "metadata": {},
   "outputs": [
    {
     "name": "stdout",
     "output_type": "stream",
     "text": [
      "Best: 0.6735795454545455\n"
     ]
    },
    {
     "data": {
      "text/plain": [
       "SVC(C=2.66, gamma=0.1)"
      ]
     },
     "execution_count": 85,
     "metadata": {},
     "output_type": "execute_result"
    }
   ],
   "source": [
    "print('Best: {}'.format(grid_search.best_score_))\n",
    "grid_search.best_estimator_"
   ]
  },
  {
   "cell_type": "code",
   "execution_count": 86,
   "metadata": {},
   "outputs": [],
   "source": [
    "results = grid_search.cv_results_"
   ]
  },
  {
   "cell_type": "code",
   "execution_count": 87,
   "metadata": {},
   "outputs": [
    {
     "data": {
      "text/html": [
       "<div>\n",
       "<style scoped>\n",
       "    .dataframe tbody tr th:only-of-type {\n",
       "        vertical-align: middle;\n",
       "    }\n",
       "\n",
       "    .dataframe tbody tr th {\n",
       "        vertical-align: top;\n",
       "    }\n",
       "\n",
       "    .dataframe thead th {\n",
       "        text-align: right;\n",
       "    }\n",
       "</style>\n",
       "<table border=\"1\" class=\"dataframe\">\n",
       "  <thead>\n",
       "    <tr style=\"text-align: right;\">\n",
       "      <th></th>\n",
       "      <th>mean_test_score</th>\n",
       "      <th>params</th>\n",
       "    </tr>\n",
       "  </thead>\n",
       "  <tbody>\n",
       "    <tr>\n",
       "      <th>5</th>\n",
       "      <td>0.673580</td>\n",
       "      <td>{'C': 2.66, 'gamma': 0.1, 'kernel': 'rbf'}</td>\n",
       "    </tr>\n",
       "    <tr>\n",
       "      <th>4</th>\n",
       "      <td>0.670549</td>\n",
       "      <td>{'C': 2.66, 'gamma': 0.09, 'kernel': 'rbf'}</td>\n",
       "    </tr>\n",
       "    <tr>\n",
       "      <th>7</th>\n",
       "      <td>0.666004</td>\n",
       "      <td>{'C': 1000, 'gamma': 0.09, 'kernel': 'rbf'}</td>\n",
       "    </tr>\n",
       "    <tr>\n",
       "      <th>6</th>\n",
       "      <td>0.664205</td>\n",
       "      <td>{'C': 1000, 'gamma': 0.05, 'kernel': 'rbf'}</td>\n",
       "    </tr>\n",
       "    <tr>\n",
       "      <th>3</th>\n",
       "      <td>0.663116</td>\n",
       "      <td>{'C': 2.66, 'gamma': 0.05, 'kernel': 'rbf'}</td>\n",
       "    </tr>\n",
       "    <tr>\n",
       "      <th>8</th>\n",
       "      <td>0.662879</td>\n",
       "      <td>{'C': 1000, 'gamma': 0.1, 'kernel': 'rbf'}</td>\n",
       "    </tr>\n",
       "    <tr>\n",
       "      <th>9</th>\n",
       "      <td>0.606439</td>\n",
       "      <td>{'C': 0.1, 'kernel': 'linear'}</td>\n",
       "    </tr>\n",
       "    <tr>\n",
       "      <th>11</th>\n",
       "      <td>0.602983</td>\n",
       "      <td>{'C': 1000, 'kernel': 'linear'}</td>\n",
       "    </tr>\n",
       "    <tr>\n",
       "      <th>10</th>\n",
       "      <td>0.601420</td>\n",
       "      <td>{'C': 2.66, 'kernel': 'linear'}</td>\n",
       "    </tr>\n",
       "    <tr>\n",
       "      <th>0</th>\n",
       "      <td>0.444602</td>\n",
       "      <td>{'C': 0.1, 'gamma': 0.05, 'kernel': 'rbf'}</td>\n",
       "    </tr>\n",
       "    <tr>\n",
       "      <th>1</th>\n",
       "      <td>0.422633</td>\n",
       "      <td>{'C': 0.1, 'gamma': 0.09, 'kernel': 'rbf'}</td>\n",
       "    </tr>\n",
       "    <tr>\n",
       "      <th>2</th>\n",
       "      <td>0.416477</td>\n",
       "      <td>{'C': 0.1, 'gamma': 0.1, 'kernel': 'rbf'}</td>\n",
       "    </tr>\n",
       "  </tbody>\n",
       "</table>\n",
       "</div>"
      ],
      "text/plain": [
       "    mean_test_score                                       params\n",
       "5          0.673580   {'C': 2.66, 'gamma': 0.1, 'kernel': 'rbf'}\n",
       "4          0.670549  {'C': 2.66, 'gamma': 0.09, 'kernel': 'rbf'}\n",
       "7          0.666004  {'C': 1000, 'gamma': 0.09, 'kernel': 'rbf'}\n",
       "6          0.664205  {'C': 1000, 'gamma': 0.05, 'kernel': 'rbf'}\n",
       "3          0.663116  {'C': 2.66, 'gamma': 0.05, 'kernel': 'rbf'}\n",
       "8          0.662879   {'C': 1000, 'gamma': 0.1, 'kernel': 'rbf'}\n",
       "9          0.606439               {'C': 0.1, 'kernel': 'linear'}\n",
       "11         0.602983              {'C': 1000, 'kernel': 'linear'}\n",
       "10         0.601420              {'C': 2.66, 'kernel': 'linear'}\n",
       "0          0.444602   {'C': 0.1, 'gamma': 0.05, 'kernel': 'rbf'}\n",
       "1          0.422633   {'C': 0.1, 'gamma': 0.09, 'kernel': 'rbf'}\n",
       "2          0.416477    {'C': 0.1, 'gamma': 0.1, 'kernel': 'rbf'}"
      ]
     },
     "execution_count": 87,
     "metadata": {},
     "output_type": "execute_result"
    }
   ],
   "source": [
    "results = pd.DataFrame(results)[['mean_test_score','params']]\n",
    "results.sort_values(by='mean_test_score',ascending=False)"
   ]
  },
  {
   "cell_type": "code",
   "execution_count": 109,
   "metadata": {},
   "outputs": [
    {
     "name": "stderr",
     "output_type": "stream",
     "text": [
      "[Parallel(n_jobs=-1)]: Using backend LokyBackend with 8 concurrent workers.\n",
      "[Parallel(n_jobs=-1)]: Batch computation too fast (0.0375s.) Setting batch_size=2.\n",
      "[Parallel(n_jobs=-1)]: Done   2 tasks      | elapsed:    0.1s\n",
      "[Parallel(n_jobs=-1)]: Done   8 out of  20 | elapsed:    0.2s remaining:    0.2s\n",
      "[Parallel(n_jobs=-1)]: Done  11 out of  20 | elapsed:    0.2s remaining:    0.1s\n",
      "[Parallel(n_jobs=-1)]: Done  14 out of  20 | elapsed:    0.2s remaining:    0.1s\n",
      "[Parallel(n_jobs=-1)]: Done  17 out of  20 | elapsed:    0.2s remaining:    0.0s\n",
      "[Parallel(n_jobs=-1)]: Done  20 out of  20 | elapsed:    0.2s remaining:    0.0s\n",
      "[Parallel(n_jobs=-1)]: Done  20 out of  20 | elapsed:    0.2s finished\n"
     ]
    },
    {
     "data": {
      "text/plain": [
       "'Accuracy media tuned: 0.667'"
      ]
     },
     "execution_count": 109,
     "metadata": {},
     "output_type": "execute_result"
    }
   ],
   "source": [
    "## test the dataset with the found parameters: kernel = 'rbf' C = 2.66 and gamma 0.05\n",
    "svm_rbf_clf = SVC(kernel = 'rbf', C = 2.66, gamma = 0.05)\n",
    "svm_rbf_score = cross_val_score(svm_rbf_clf, X_train, y_train, cv = 20, n_jobs = -1, verbose = 10)\n",
    "'Accuracy media tuned: {:0.3f}'.format(np.mean(svm_rbf_score))"
   ]
  },
  {
   "cell_type": "code",
   "execution_count": 110,
   "metadata": {},
   "outputs": [
    {
     "data": {
      "text/plain": [
       "SVC(C=2.66, gamma=0.05)"
      ]
     },
     "execution_count": 110,
     "metadata": {},
     "output_type": "execute_result"
    }
   ],
   "source": [
    "svm_rbf_clf.fit(X_train, y_train)"
   ]
  },
  {
   "cell_type": "code",
   "execution_count": 111,
   "metadata": {},
   "outputs": [
    {
     "data": {
      "text/plain": [
       "'Accuracy media tuned: 0.577'"
      ]
     },
     "execution_count": 111,
     "metadata": {},
     "output_type": "execute_result"
    }
   ],
   "source": [
    "expected = y_test\n",
    "predicted = svm_rbf_clf.predict(X_test)\n",
    "rbf_cnf_matrix = confusion_matrix(expected, predicted)\n",
    "svm_rbf_score_tuned = cross_val_score(svm_rbf_clf, X_test, y_test, cv = 20)\n",
    "svc = 'Accuracy media tuned: {:0.3f}'.format(np.mean(svm_rbf_score_tuned))\n",
    "svc"
   ]
  },
  {
   "cell_type": "code",
   "execution_count": 112,
   "metadata": {},
   "outputs": [
    {
     "data": {
      "text/plain": [
       "0.6542857142857142"
      ]
     },
     "execution_count": 112,
     "metadata": {},
     "output_type": "execute_result"
    }
   ],
   "source": [
    "## Micro-averaging - In micro-averaging method, you sum up the individual true positives, false positives, \n",
    "## and false negatives of the system for different sets and the apply them. And the micro-average F1-Score\n",
    "## will be simply the harmonic mean of above two equations.\n",
    "\n",
    "f1_score(expected, predicted, average = 'micro')"
   ]
  },
  {
   "cell_type": "code",
   "execution_count": 113,
   "metadata": {},
   "outputs": [
    {
     "data": {
      "text/plain": [
       "0.3457142857142857"
      ]
     },
     "execution_count": 113,
     "metadata": {},
     "output_type": "execute_result"
    }
   ],
   "source": [
    "## In simplest of terms, Hamming-Loss is the fraction of labels that are incorrectly predicted, \n",
    "## i.e., the fraction of the wrong labels to the total number of labels.\n",
    "hamming_loss(expected, predicted)"
   ]
  },
  {
   "cell_type": "code",
   "execution_count": 114,
   "metadata": {},
   "outputs": [],
   "source": [
    "svc_accuracy = accuracy_score(expected, predicted)"
   ]
  },
  {
   "cell_type": "code",
   "execution_count": 115,
   "metadata": {},
   "outputs": [
    {
     "data": {
      "text/plain": [
       "<AxesSubplot:xlabel='Predicted', ylabel='Actual'>"
      ]
     },
     "execution_count": 115,
     "metadata": {},
     "output_type": "execute_result"
    },
    {
     "data": {
      "image/png": "[encoded data removed]",
      "text/plain": [
       "<Figure size 720x504 with 2 Axes>"
      ]
     },
     "metadata": {
      "needs_background": "light"
     },
     "output_type": "display_data"
    }
   ],
   "source": [
    "data = rbf_cnf_matrix\n",
    "df_cm = pd.DataFrame(data, columns=np.unique(y_test), index = np.unique(y_test))\n",
    "df_cm.index.name = 'Actual'\n",
    "df_cm.columns.name = 'Predicted'\n",
    "plt.figure(figsize = (10,7))\n",
    "sn.set(font_scale=1.0)#for label size\n",
    "svc_heatmap = sn.heatmap(df_cm/np.sum(data), cmap=\"Blues\", annot=True, fmt='.1%', annot_kws={\"size\": 10})# font size\n",
    "svc_heatmap"
   ]
  },
  {
   "cell_type": "code",
   "execution_count": 116,
   "metadata": {},
   "outputs": [
    {
     "name": "stdout",
     "output_type": "stream",
     "text": [
      "Stored 'svc' (str)\n",
      "Stored 'svc_heatmap' (AxesSubplot)\n",
      "Stored 'rbf_cnf_matrix' (ndarray)\n",
      "Stored 'svc_accuracy' (float64)\n"
     ]
    }
   ],
   "source": [
    "%store rbf_cnf_matrix\n",
    "%store svc_accuracy"
   ]
  }
 ],
 "metadata": {
  "kernelspec": {
   "display_name": "Python 3",
   "language": "python",
   "name": "python3"
  },
  "language_info": {
   "codemirror_mode": {
    "name": "ipython",
    "version": 3
   },
   "file_extension": ".py",
   "mimetype": "text/x-python",
   "name": "python",
   "nbconvert_exporter": "python",
   "pygments_lexer": "ipython3",
   "version": "3.8.5"
  }
 },
 "nbformat": 4,
 "nbformat_minor": 4
}
