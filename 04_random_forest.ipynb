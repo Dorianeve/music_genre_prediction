{
 "cells": [
  {
   "cell_type": "markdown",
   "metadata": {},
   "source": [
    "# Ensamble Methods: Random Forest and Extra Trees with AdaBoost\n",
    "\n",
    "https://quantdare.com/what-is-the-difference-between-extra-trees-and-random-forest/\n",
    "Random Forest and Extra Trees are two ensemple methods with some main differences:\n",
    "- \"Random forest uses bootstrap replicas, that is to say, it subsamples the input data with replacement, whereas Extra Trees use the whole original sample. In the Extra Trees sklearn implementation there is an optional parameter that allows users to bootstrap replicas, but by default, it uses the entire input sample. This may increase variance because bootstrapping makes it more diversified.\"\n",
    "- \"Another difference is the selection of cut points in order to split nodes. Random Forest chooses the optimum split while Extra Trees chooses it randomly. However, once the split points are selected, the two algorithms choose the best one between all the subset of features. Therefore, Extra Trees adds randomization but still has optimization.\"\n",
    "\n"
   ]
  },
  {
   "cell_type": "code",
   "execution_count": 1,
   "metadata": {},
   "outputs": [],
   "source": [
    "## # Load libraries\n",
    "from sklearn.model_selection import train_test_split\n",
    "from sklearn.model_selection import KFold\n",
    "from sklearn.model_selection import cross_val_score\n",
    "from sklearn.model_selection import cross_val_predict\n",
    "from sklearn.model_selection import GridSearchCV\n",
    "from sklearn.ensemble import AdaBoostClassifier\n",
    "from sklearn.ensemble import RandomForestClassifier\n",
    "from sklearn.ensemble import ExtraTreesClassifier\n",
    "\n",
    "import sys\n",
    "import os\n",
    "import pandas as pd\n",
    "import numpy as np\n",
    "import matplotlib.pyplot as plt\n",
    "import seaborn as sn\n",
    "%matplotlib inline\n",
    "\n",
    "from sklearn.metrics import confusion_matrix\n",
    "from sklearn.metrics import f1_score\n",
    "from sklearn.metrics import hamming_loss\n",
    "from sklearn.metrics import classification_report\n",
    "from sklearn.metrics import confusion_matrix\n",
    "from sklearn.metrics import accuracy_score"
   ]
  },
  {
   "cell_type": "code",
   "execution_count": 2,
   "metadata": {},
   "outputs": [],
   "source": [
    "# retrieve variables\n",
    "%store -r raw_data\n",
    "%store -r raw_data_uncorr"
   ]
  },
  {
   "cell_type": "code",
   "execution_count": 3,
   "metadata": {},
   "outputs": [],
   "source": [
    "## divide train test tentative with stratification to keep the distribution\n",
    "## raw_data parames [28] / raw_data_uncorr [24]\n",
    "X = raw_data_uncorr.iloc[:,:24]\n",
    "Y = raw_data_uncorr.iloc[:,24]\n",
    "\n",
    "X_train, X_test, y_train, y_test = train_test_split(X,Y,\n",
    "                                                   test_size=0.35,\n",
    "                                                   stratify=Y)"
   ]
  },
  {
   "cell_type": "markdown",
   "metadata": {},
   "source": [
    "Scaling not needed for Random Forest and Extra Trees."
   ]
  },
  {
   "cell_type": "code",
   "execution_count": 4,
   "metadata": {},
   "outputs": [
    {
     "data": {
      "text/plain": [
       "'Accuracy media: 0.606'"
      ]
     },
     "execution_count": 4,
     "metadata": {},
     "output_type": "execute_result"
    }
   ],
   "source": [
    "## try Random Forest with default parameters\n",
    "rnf_clf = RandomForestClassifier(n_jobs=-1)\n",
    "rnf_score = cross_val_score(rnf_clf, X_train, y_train, cv=20, n_jobs=-1)\n",
    "'Accuracy media: {:0.3f}'.format(np.mean(rnf_score))"
   ]
  },
  {
   "cell_type": "code",
   "execution_count": 5,
   "metadata": {},
   "outputs": [
    {
     "data": {
      "text/plain": [
       "'Accuracy media: 0.634'"
      ]
     },
     "execution_count": 5,
     "metadata": {},
     "output_type": "execute_result"
    }
   ],
   "source": [
    "## try Extra Trees with default parameters\n",
    "et_clf = ExtraTreesClassifier(n_jobs=-1)\n",
    "et_score = cross_val_score(et_clf, X_train, y_train, cv=20,n_jobs=-1)\n",
    "'Accuracy media: {:0.3f}'.format(np.mean(et_score))"
   ]
  },
  {
   "cell_type": "code",
   "execution_count": 6,
   "metadata": {},
   "outputs": [
    {
     "data": {
      "text/plain": [
       "GridSearchCV(cv=3, estimator=RandomForestClassifier(n_jobs=-1), n_jobs=-1,\n",
       "             param_grid=[{'max_depth': [2, 5, 8, None],\n",
       "                          'max_features': [8, 10, 'auto'],\n",
       "                          'n_estimators': [10, 20, 50, 100, 150]}])"
      ]
     },
     "execution_count": 6,
     "metadata": {},
     "output_type": "execute_result"
    }
   ],
   "source": [
    "## parameters tuning Random Forest\n",
    "\n",
    "param_grid = [\n",
    "    {'max_features': [8,10,'auto'],\n",
    "     'max_depth':[2,5,8,None],\n",
    "     'n_estimators':[10,20,50,100,150]\n",
    "    }\n",
    "]\n",
    "\n",
    "grid_search = GridSearchCV(estimator=rnf_clf,\n",
    "                           param_grid = param_grid,\n",
    "                           cv = 3,\n",
    "                           n_jobs=-1\n",
    ")\n",
    "\n",
    "grid_search.fit(X_train, y_train)"
   ]
  },
  {
   "cell_type": "code",
   "execution_count": 7,
   "metadata": {},
   "outputs": [
    {
     "data": {
      "text/plain": [
       "{'max_depth': None, 'max_features': 8, 'n_estimators': 150}"
      ]
     },
     "execution_count": 7,
     "metadata": {},
     "output_type": "execute_result"
    }
   ],
   "source": [
    "grid_search.best_params_"
   ]
  },
  {
   "cell_type": "code",
   "execution_count": 8,
   "metadata": {},
   "outputs": [
    {
     "data": {
      "text/plain": [
       "0.6030750412470842"
      ]
     },
     "execution_count": 8,
     "metadata": {},
     "output_type": "execute_result"
    }
   ],
   "source": [
    "grid_search.best_score_"
   ]
  },
  {
   "cell_type": "code",
   "execution_count": 9,
   "metadata": {},
   "outputs": [
    {
     "name": "stdout",
     "output_type": "stream",
     "text": [
      "Best: 0.6030750412470842\n"
     ]
    },
    {
     "data": {
      "text/plain": [
       "RandomForestClassifier(max_features=8, n_estimators=150, n_jobs=-1)"
      ]
     },
     "execution_count": 9,
     "metadata": {},
     "output_type": "execute_result"
    }
   ],
   "source": [
    "print('Best: {}'.format(grid_search.best_score_))\n",
    "grid_search.best_estimator_"
   ]
  },
  {
   "cell_type": "code",
   "execution_count": 10,
   "metadata": {},
   "outputs": [],
   "source": [
    "results = grid_search.cv_results_"
   ]
  },
  {
   "cell_type": "code",
   "execution_count": 11,
   "metadata": {},
   "outputs": [
    {
     "data": {
      "text/html": [
       "<div>\n",
       "<style scoped>\n",
       "    .dataframe tbody tr th:only-of-type {\n",
       "        vertical-align: middle;\n",
       "    }\n",
       "\n",
       "    .dataframe tbody tr th {\n",
       "        vertical-align: top;\n",
       "    }\n",
       "\n",
       "    .dataframe thead th {\n",
       "        text-align: right;\n",
       "    }\n",
       "</style>\n",
       "<table border=\"1\" class=\"dataframe\">\n",
       "  <thead>\n",
       "    <tr style=\"text-align: right;\">\n",
       "      <th></th>\n",
       "      <th>mean_test_score</th>\n",
       "      <th>params</th>\n",
       "    </tr>\n",
       "  </thead>\n",
       "  <tbody>\n",
       "    <tr>\n",
       "      <th>49</th>\n",
       "      <td>0.603075</td>\n",
       "      <td>{'max_depth': None, 'max_features': 8, 'n_esti...</td>\n",
       "    </tr>\n",
       "    <tr>\n",
       "      <th>58</th>\n",
       "      <td>0.596881</td>\n",
       "      <td>{'max_depth': None, 'max_features': 'auto', 'n...</td>\n",
       "    </tr>\n",
       "    <tr>\n",
       "      <th>53</th>\n",
       "      <td>0.593830</td>\n",
       "      <td>{'max_depth': None, 'max_features': 10, 'n_est...</td>\n",
       "    </tr>\n",
       "    <tr>\n",
       "      <th>52</th>\n",
       "      <td>0.590779</td>\n",
       "      <td>{'max_depth': None, 'max_features': 10, 'n_est...</td>\n",
       "    </tr>\n",
       "    <tr>\n",
       "      <th>38</th>\n",
       "      <td>0.590772</td>\n",
       "      <td>{'max_depth': 8, 'max_features': 10, 'n_estima...</td>\n",
       "    </tr>\n",
       "    <tr>\n",
       "      <th>54</th>\n",
       "      <td>0.589236</td>\n",
       "      <td>{'max_depth': None, 'max_features': 10, 'n_est...</td>\n",
       "    </tr>\n",
       "    <tr>\n",
       "      <th>39</th>\n",
       "      <td>0.586164</td>\n",
       "      <td>{'max_depth': 8, 'max_features': 10, 'n_estima...</td>\n",
       "    </tr>\n",
       "    <tr>\n",
       "      <th>44</th>\n",
       "      <td>0.584613</td>\n",
       "      <td>{'max_depth': 8, 'max_features': 'auto', 'n_es...</td>\n",
       "    </tr>\n",
       "    <tr>\n",
       "      <th>59</th>\n",
       "      <td>0.580005</td>\n",
       "      <td>{'max_depth': None, 'max_features': 'auto', 'n...</td>\n",
       "    </tr>\n",
       "    <tr>\n",
       "      <th>34</th>\n",
       "      <td>0.576912</td>\n",
       "      <td>{'max_depth': 8, 'max_features': 8, 'n_estimat...</td>\n",
       "    </tr>\n",
       "    <tr>\n",
       "      <th>57</th>\n",
       "      <td>0.575354</td>\n",
       "      <td>{'max_depth': None, 'max_features': 'auto', 'n...</td>\n",
       "    </tr>\n",
       "    <tr>\n",
       "      <th>48</th>\n",
       "      <td>0.573797</td>\n",
       "      <td>{'max_depth': None, 'max_features': 8, 'n_esti...</td>\n",
       "    </tr>\n",
       "    <tr>\n",
       "      <th>43</th>\n",
       "      <td>0.566159</td>\n",
       "      <td>{'max_depth': 8, 'max_features': 'auto', 'n_es...</td>\n",
       "    </tr>\n",
       "    <tr>\n",
       "      <th>47</th>\n",
       "      <td>0.564644</td>\n",
       "      <td>{'max_depth': None, 'max_features': 8, 'n_esti...</td>\n",
       "    </tr>\n",
       "    <tr>\n",
       "      <th>46</th>\n",
       "      <td>0.564580</td>\n",
       "      <td>{'max_depth': None, 'max_features': 8, 'n_esti...</td>\n",
       "    </tr>\n",
       "    <tr>\n",
       "      <th>33</th>\n",
       "      <td>0.563065</td>\n",
       "      <td>{'max_depth': 8, 'max_features': 8, 'n_estimat...</td>\n",
       "    </tr>\n",
       "    <tr>\n",
       "      <th>42</th>\n",
       "      <td>0.558450</td>\n",
       "      <td>{'max_depth': 8, 'max_features': 'auto', 'n_es...</td>\n",
       "    </tr>\n",
       "    <tr>\n",
       "      <th>37</th>\n",
       "      <td>0.553863</td>\n",
       "      <td>{'max_depth': 8, 'max_features': 10, 'n_estima...</td>\n",
       "    </tr>\n",
       "    <tr>\n",
       "      <th>32</th>\n",
       "      <td>0.544646</td>\n",
       "      <td>{'max_depth': 8, 'max_features': 8, 'n_estimat...</td>\n",
       "    </tr>\n",
       "    <tr>\n",
       "      <th>31</th>\n",
       "      <td>0.544611</td>\n",
       "      <td>{'max_depth': 8, 'max_features': 8, 'n_estimat...</td>\n",
       "    </tr>\n",
       "    <tr>\n",
       "      <th>51</th>\n",
       "      <td>0.538466</td>\n",
       "      <td>{'max_depth': None, 'max_features': 10, 'n_est...</td>\n",
       "    </tr>\n",
       "    <tr>\n",
       "      <th>27</th>\n",
       "      <td>0.535359</td>\n",
       "      <td>{'max_depth': 5, 'max_features': 'auto', 'n_es...</td>\n",
       "    </tr>\n",
       "    <tr>\n",
       "      <th>56</th>\n",
       "      <td>0.532301</td>\n",
       "      <td>{'max_depth': None, 'max_features': 'auto', 'n...</td>\n",
       "    </tr>\n",
       "    <tr>\n",
       "      <th>19</th>\n",
       "      <td>0.530722</td>\n",
       "      <td>{'max_depth': 5, 'max_features': 8, 'n_estimat...</td>\n",
       "    </tr>\n",
       "    <tr>\n",
       "      <th>17</th>\n",
       "      <td>0.529221</td>\n",
       "      <td>{'max_depth': 5, 'max_features': 8, 'n_estimat...</td>\n",
       "    </tr>\n",
       "    <tr>\n",
       "      <th>28</th>\n",
       "      <td>0.529150</td>\n",
       "      <td>{'max_depth': 5, 'max_features': 'auto', 'n_es...</td>\n",
       "    </tr>\n",
       "    <tr>\n",
       "      <th>41</th>\n",
       "      <td>0.524599</td>\n",
       "      <td>{'max_depth': 8, 'max_features': 'auto', 'n_es...</td>\n",
       "    </tr>\n",
       "    <tr>\n",
       "      <th>36</th>\n",
       "      <td>0.524578</td>\n",
       "      <td>{'max_depth': 8, 'max_features': 10, 'n_estima...</td>\n",
       "    </tr>\n",
       "    <tr>\n",
       "      <th>45</th>\n",
       "      <td>0.524570</td>\n",
       "      <td>{'max_depth': None, 'max_features': 8, 'n_esti...</td>\n",
       "    </tr>\n",
       "    <tr>\n",
       "      <th>29</th>\n",
       "      <td>0.521505</td>\n",
       "      <td>{'max_depth': 5, 'max_features': 'auto', 'n_es...</td>\n",
       "    </tr>\n",
       "    <tr>\n",
       "      <th>23</th>\n",
       "      <td>0.513811</td>\n",
       "      <td>{'max_depth': 5, 'max_features': 10, 'n_estima...</td>\n",
       "    </tr>\n",
       "    <tr>\n",
       "      <th>50</th>\n",
       "      <td>0.513796</td>\n",
       "      <td>{'max_depth': None, 'max_features': 10, 'n_est...</td>\n",
       "    </tr>\n",
       "    <tr>\n",
       "      <th>24</th>\n",
       "      <td>0.510703</td>\n",
       "      <td>{'max_depth': 5, 'max_features': 10, 'n_estima...</td>\n",
       "    </tr>\n",
       "    <tr>\n",
       "      <th>35</th>\n",
       "      <td>0.507652</td>\n",
       "      <td>{'max_depth': 8, 'max_features': 10, 'n_estima...</td>\n",
       "    </tr>\n",
       "    <tr>\n",
       "      <th>18</th>\n",
       "      <td>0.507602</td>\n",
       "      <td>{'max_depth': 5, 'max_features': 8, 'n_estimat...</td>\n",
       "    </tr>\n",
       "    <tr>\n",
       "      <th>22</th>\n",
       "      <td>0.507595</td>\n",
       "      <td>{'max_depth': 5, 'max_features': 10, 'n_estima...</td>\n",
       "    </tr>\n",
       "    <tr>\n",
       "      <th>55</th>\n",
       "      <td>0.498414</td>\n",
       "      <td>{'max_depth': None, 'max_features': 'auto', 'n...</td>\n",
       "    </tr>\n",
       "    <tr>\n",
       "      <th>30</th>\n",
       "      <td>0.493891</td>\n",
       "      <td>{'max_depth': 8, 'max_features': 8, 'n_estimat...</td>\n",
       "    </tr>\n",
       "    <tr>\n",
       "      <th>40</th>\n",
       "      <td>0.490769</td>\n",
       "      <td>{'max_depth': 8, 'max_features': 'auto', 'n_es...</td>\n",
       "    </tr>\n",
       "    <tr>\n",
       "      <th>21</th>\n",
       "      <td>0.490719</td>\n",
       "      <td>{'max_depth': 5, 'max_features': 10, 'n_estima...</td>\n",
       "    </tr>\n",
       "    <tr>\n",
       "      <th>26</th>\n",
       "      <td>0.481524</td>\n",
       "      <td>{'max_depth': 5, 'max_features': 'auto', 'n_es...</td>\n",
       "    </tr>\n",
       "    <tr>\n",
       "      <th>16</th>\n",
       "      <td>0.475330</td>\n",
       "      <td>{'max_depth': 5, 'max_features': 8, 'n_estimat...</td>\n",
       "    </tr>\n",
       "    <tr>\n",
       "      <th>25</th>\n",
       "      <td>0.469193</td>\n",
       "      <td>{'max_depth': 5, 'max_features': 'auto', 'n_es...</td>\n",
       "    </tr>\n",
       "    <tr>\n",
       "      <th>20</th>\n",
       "      <td>0.469136</td>\n",
       "      <td>{'max_depth': 5, 'max_features': 10, 'n_estima...</td>\n",
       "    </tr>\n",
       "    <tr>\n",
       "      <th>15</th>\n",
       "      <td>0.455361</td>\n",
       "      <td>{'max_depth': 5, 'max_features': 8, 'n_estimat...</td>\n",
       "    </tr>\n",
       "    <tr>\n",
       "      <th>3</th>\n",
       "      <td>0.419931</td>\n",
       "      <td>{'max_depth': 2, 'max_features': 8, 'n_estimat...</td>\n",
       "    </tr>\n",
       "    <tr>\n",
       "      <th>9</th>\n",
       "      <td>0.416844</td>\n",
       "      <td>{'max_depth': 2, 'max_features': 10, 'n_estima...</td>\n",
       "    </tr>\n",
       "    <tr>\n",
       "      <th>10</th>\n",
       "      <td>0.410800</td>\n",
       "      <td>{'max_depth': 2, 'max_features': 'auto', 'n_es...</td>\n",
       "    </tr>\n",
       "    <tr>\n",
       "      <th>4</th>\n",
       "      <td>0.409157</td>\n",
       "      <td>{'max_depth': 2, 'max_features': 8, 'n_estimat...</td>\n",
       "    </tr>\n",
       "    <tr>\n",
       "      <th>8</th>\n",
       "      <td>0.409143</td>\n",
       "      <td>{'max_depth': 2, 'max_features': 10, 'n_estima...</td>\n",
       "    </tr>\n",
       "    <tr>\n",
       "      <th>7</th>\n",
       "      <td>0.404541</td>\n",
       "      <td>{'max_depth': 2, 'max_features': 10, 'n_estima...</td>\n",
       "    </tr>\n",
       "    <tr>\n",
       "      <th>2</th>\n",
       "      <td>0.403041</td>\n",
       "      <td>{'max_depth': 2, 'max_features': 8, 'n_estimat...</td>\n",
       "    </tr>\n",
       "    <tr>\n",
       "      <th>14</th>\n",
       "      <td>0.401512</td>\n",
       "      <td>{'max_depth': 2, 'max_features': 'auto', 'n_es...</td>\n",
       "    </tr>\n",
       "    <tr>\n",
       "      <th>1</th>\n",
       "      <td>0.401483</td>\n",
       "      <td>{'max_depth': 2, 'max_features': 8, 'n_estimat...</td>\n",
       "    </tr>\n",
       "    <tr>\n",
       "      <th>5</th>\n",
       "      <td>0.392246</td>\n",
       "      <td>{'max_depth': 2, 'max_features': 10, 'n_estima...</td>\n",
       "    </tr>\n",
       "    <tr>\n",
       "      <th>6</th>\n",
       "      <td>0.379935</td>\n",
       "      <td>{'max_depth': 2, 'max_features': 10, 'n_estima...</td>\n",
       "    </tr>\n",
       "    <tr>\n",
       "      <th>0</th>\n",
       "      <td>0.378414</td>\n",
       "      <td>{'max_depth': 2, 'max_features': 8, 'n_estimat...</td>\n",
       "    </tr>\n",
       "    <tr>\n",
       "      <th>13</th>\n",
       "      <td>0.376899</td>\n",
       "      <td>{'max_depth': 2, 'max_features': 'auto', 'n_es...</td>\n",
       "    </tr>\n",
       "    <tr>\n",
       "      <th>11</th>\n",
       "      <td>0.375412</td>\n",
       "      <td>{'max_depth': 2, 'max_features': 'auto', 'n_es...</td>\n",
       "    </tr>\n",
       "    <tr>\n",
       "      <th>12</th>\n",
       "      <td>0.367696</td>\n",
       "      <td>{'max_depth': 2, 'max_features': 'auto', 'n_es...</td>\n",
       "    </tr>\n",
       "  </tbody>\n",
       "</table>\n",
       "</div>"
      ],
      "text/plain": [
       "    mean_test_score                                             params\n",
       "49         0.603075  {'max_depth': None, 'max_features': 8, 'n_esti...\n",
       "58         0.596881  {'max_depth': None, 'max_features': 'auto', 'n...\n",
       "53         0.593830  {'max_depth': None, 'max_features': 10, 'n_est...\n",
       "52         0.590779  {'max_depth': None, 'max_features': 10, 'n_est...\n",
       "38         0.590772  {'max_depth': 8, 'max_features': 10, 'n_estima...\n",
       "54         0.589236  {'max_depth': None, 'max_features': 10, 'n_est...\n",
       "39         0.586164  {'max_depth': 8, 'max_features': 10, 'n_estima...\n",
       "44         0.584613  {'max_depth': 8, 'max_features': 'auto', 'n_es...\n",
       "59         0.580005  {'max_depth': None, 'max_features': 'auto', 'n...\n",
       "34         0.576912  {'max_depth': 8, 'max_features': 8, 'n_estimat...\n",
       "57         0.575354  {'max_depth': None, 'max_features': 'auto', 'n...\n",
       "48         0.573797  {'max_depth': None, 'max_features': 8, 'n_esti...\n",
       "43         0.566159  {'max_depth': 8, 'max_features': 'auto', 'n_es...\n",
       "47         0.564644  {'max_depth': None, 'max_features': 8, 'n_esti...\n",
       "46         0.564580  {'max_depth': None, 'max_features': 8, 'n_esti...\n",
       "33         0.563065  {'max_depth': 8, 'max_features': 8, 'n_estimat...\n",
       "42         0.558450  {'max_depth': 8, 'max_features': 'auto', 'n_es...\n",
       "37         0.553863  {'max_depth': 8, 'max_features': 10, 'n_estima...\n",
       "32         0.544646  {'max_depth': 8, 'max_features': 8, 'n_estimat...\n",
       "31         0.544611  {'max_depth': 8, 'max_features': 8, 'n_estimat...\n",
       "51         0.538466  {'max_depth': None, 'max_features': 10, 'n_est...\n",
       "27         0.535359  {'max_depth': 5, 'max_features': 'auto', 'n_es...\n",
       "56         0.532301  {'max_depth': None, 'max_features': 'auto', 'n...\n",
       "19         0.530722  {'max_depth': 5, 'max_features': 8, 'n_estimat...\n",
       "17         0.529221  {'max_depth': 5, 'max_features': 8, 'n_estimat...\n",
       "28         0.529150  {'max_depth': 5, 'max_features': 'auto', 'n_es...\n",
       "41         0.524599  {'max_depth': 8, 'max_features': 'auto', 'n_es...\n",
       "36         0.524578  {'max_depth': 8, 'max_features': 10, 'n_estima...\n",
       "45         0.524570  {'max_depth': None, 'max_features': 8, 'n_esti...\n",
       "29         0.521505  {'max_depth': 5, 'max_features': 'auto', 'n_es...\n",
       "23         0.513811  {'max_depth': 5, 'max_features': 10, 'n_estima...\n",
       "50         0.513796  {'max_depth': None, 'max_features': 10, 'n_est...\n",
       "24         0.510703  {'max_depth': 5, 'max_features': 10, 'n_estima...\n",
       "35         0.507652  {'max_depth': 8, 'max_features': 10, 'n_estima...\n",
       "18         0.507602  {'max_depth': 5, 'max_features': 8, 'n_estimat...\n",
       "22         0.507595  {'max_depth': 5, 'max_features': 10, 'n_estima...\n",
       "55         0.498414  {'max_depth': None, 'max_features': 'auto', 'n...\n",
       "30         0.493891  {'max_depth': 8, 'max_features': 8, 'n_estimat...\n",
       "40         0.490769  {'max_depth': 8, 'max_features': 'auto', 'n_es...\n",
       "21         0.490719  {'max_depth': 5, 'max_features': 10, 'n_estima...\n",
       "26         0.481524  {'max_depth': 5, 'max_features': 'auto', 'n_es...\n",
       "16         0.475330  {'max_depth': 5, 'max_features': 8, 'n_estimat...\n",
       "25         0.469193  {'max_depth': 5, 'max_features': 'auto', 'n_es...\n",
       "20         0.469136  {'max_depth': 5, 'max_features': 10, 'n_estima...\n",
       "15         0.455361  {'max_depth': 5, 'max_features': 8, 'n_estimat...\n",
       "3          0.419931  {'max_depth': 2, 'max_features': 8, 'n_estimat...\n",
       "9          0.416844  {'max_depth': 2, 'max_features': 10, 'n_estima...\n",
       "10         0.410800  {'max_depth': 2, 'max_features': 'auto', 'n_es...\n",
       "4          0.409157  {'max_depth': 2, 'max_features': 8, 'n_estimat...\n",
       "8          0.409143  {'max_depth': 2, 'max_features': 10, 'n_estima...\n",
       "7          0.404541  {'max_depth': 2, 'max_features': 10, 'n_estima...\n",
       "2          0.403041  {'max_depth': 2, 'max_features': 8, 'n_estimat...\n",
       "14         0.401512  {'max_depth': 2, 'max_features': 'auto', 'n_es...\n",
       "1          0.401483  {'max_depth': 2, 'max_features': 8, 'n_estimat...\n",
       "5          0.392246  {'max_depth': 2, 'max_features': 10, 'n_estima...\n",
       "6          0.379935  {'max_depth': 2, 'max_features': 10, 'n_estima...\n",
       "0          0.378414  {'max_depth': 2, 'max_features': 8, 'n_estimat...\n",
       "13         0.376899  {'max_depth': 2, 'max_features': 'auto', 'n_es...\n",
       "11         0.375412  {'max_depth': 2, 'max_features': 'auto', 'n_es...\n",
       "12         0.367696  {'max_depth': 2, 'max_features': 'auto', 'n_es..."
      ]
     },
     "execution_count": 11,
     "metadata": {},
     "output_type": "execute_result"
    }
   ],
   "source": [
    "results = pd.DataFrame(results)[['mean_test_score','params']]\n",
    "results.sort_values(by='mean_test_score',ascending=False)"
   ]
  },
  {
   "cell_type": "code",
   "execution_count": 12,
   "metadata": {},
   "outputs": [
    {
     "data": {
      "text/plain": [
       "GridSearchCV(cv=10, estimator=ExtraTreesClassifier(n_jobs=-1), n_jobs=-1,\n",
       "             param_grid=[{'max_depth': [2, 5, 8, None],\n",
       "                          'max_features': [8, 10, 'auto'],\n",
       "                          'n_estimators': [10, 20, 50, 100, 150]}])"
      ]
     },
     "execution_count": 12,
     "metadata": {},
     "output_type": "execute_result"
    }
   ],
   "source": [
    "## parameters tuning Extra Tree\n",
    "\n",
    "param_grid = [\n",
    "    {'max_features': [8,10,'auto'],\n",
    "     'max_depth':[2,5,8,None],\n",
    "     'n_estimators':[10,20,50,100,150]\n",
    "    }\n",
    "]\n",
    "\n",
    "grid_search = GridSearchCV(estimator=et_clf,\n",
    "                           param_grid = param_grid,\n",
    "                           cv = 10,\n",
    "                           n_jobs=-1\n",
    ")\n",
    "\n",
    "grid_search.fit(X_train, y_train)"
   ]
  },
  {
   "cell_type": "code",
   "execution_count": 13,
   "metadata": {},
   "outputs": [
    {
     "data": {
      "text/plain": [
       "{'max_depth': None, 'max_features': 10, 'n_estimators': 150}"
      ]
     },
     "execution_count": 13,
     "metadata": {},
     "output_type": "execute_result"
    }
   ],
   "source": [
    "grid_search.best_params_"
   ]
  },
  {
   "cell_type": "code",
   "execution_count": 14,
   "metadata": {},
   "outputs": [
    {
     "data": {
      "text/plain": [
       "0.6415384615384616"
      ]
     },
     "execution_count": 14,
     "metadata": {},
     "output_type": "execute_result"
    }
   ],
   "source": [
    "grid_search.best_score_"
   ]
  },
  {
   "cell_type": "code",
   "execution_count": 15,
   "metadata": {},
   "outputs": [],
   "source": [
    "results = grid_search.cv_results_"
   ]
  },
  {
   "cell_type": "code",
   "execution_count": 16,
   "metadata": {},
   "outputs": [
    {
     "data": {
      "text/html": [
       "<div>\n",
       "<style scoped>\n",
       "    .dataframe tbody tr th:only-of-type {\n",
       "        vertical-align: middle;\n",
       "    }\n",
       "\n",
       "    .dataframe tbody tr th {\n",
       "        vertical-align: top;\n",
       "    }\n",
       "\n",
       "    .dataframe thead th {\n",
       "        text-align: right;\n",
       "    }\n",
       "</style>\n",
       "<table border=\"1\" class=\"dataframe\">\n",
       "  <thead>\n",
       "    <tr style=\"text-align: right;\">\n",
       "      <th></th>\n",
       "      <th>mean_test_score</th>\n",
       "      <th>params</th>\n",
       "    </tr>\n",
       "  </thead>\n",
       "  <tbody>\n",
       "    <tr>\n",
       "      <th>54</th>\n",
       "      <td>0.641538</td>\n",
       "      <td>{'max_depth': None, 'max_features': 10, 'n_est...</td>\n",
       "    </tr>\n",
       "    <tr>\n",
       "      <th>49</th>\n",
       "      <td>0.635385</td>\n",
       "      <td>{'max_depth': None, 'max_features': 8, 'n_esti...</td>\n",
       "    </tr>\n",
       "    <tr>\n",
       "      <th>58</th>\n",
       "      <td>0.635385</td>\n",
       "      <td>{'max_depth': None, 'max_features': 'auto', 'n...</td>\n",
       "    </tr>\n",
       "    <tr>\n",
       "      <th>48</th>\n",
       "      <td>0.633846</td>\n",
       "      <td>{'max_depth': None, 'max_features': 8, 'n_esti...</td>\n",
       "    </tr>\n",
       "    <tr>\n",
       "      <th>52</th>\n",
       "      <td>0.633846</td>\n",
       "      <td>{'max_depth': None, 'max_features': 10, 'n_est...</td>\n",
       "    </tr>\n",
       "    <tr>\n",
       "      <th>53</th>\n",
       "      <td>0.629231</td>\n",
       "      <td>{'max_depth': None, 'max_features': 10, 'n_est...</td>\n",
       "    </tr>\n",
       "    <tr>\n",
       "      <th>59</th>\n",
       "      <td>0.626154</td>\n",
       "      <td>{'max_depth': None, 'max_features': 'auto', 'n...</td>\n",
       "    </tr>\n",
       "    <tr>\n",
       "      <th>47</th>\n",
       "      <td>0.610769</td>\n",
       "      <td>{'max_depth': None, 'max_features': 8, 'n_esti...</td>\n",
       "    </tr>\n",
       "    <tr>\n",
       "      <th>57</th>\n",
       "      <td>0.610769</td>\n",
       "      <td>{'max_depth': None, 'max_features': 'auto', 'n...</td>\n",
       "    </tr>\n",
       "    <tr>\n",
       "      <th>32</th>\n",
       "      <td>0.606154</td>\n",
       "      <td>{'max_depth': 8, 'max_features': 8, 'n_estimat...</td>\n",
       "    </tr>\n",
       "    <tr>\n",
       "      <th>34</th>\n",
       "      <td>0.604615</td>\n",
       "      <td>{'max_depth': 8, 'max_features': 8, 'n_estimat...</td>\n",
       "    </tr>\n",
       "    <tr>\n",
       "      <th>38</th>\n",
       "      <td>0.598462</td>\n",
       "      <td>{'max_depth': 8, 'max_features': 10, 'n_estima...</td>\n",
       "    </tr>\n",
       "    <tr>\n",
       "      <th>39</th>\n",
       "      <td>0.593846</td>\n",
       "      <td>{'max_depth': 8, 'max_features': 10, 'n_estima...</td>\n",
       "    </tr>\n",
       "    <tr>\n",
       "      <th>37</th>\n",
       "      <td>0.593846</td>\n",
       "      <td>{'max_depth': 8, 'max_features': 10, 'n_estima...</td>\n",
       "    </tr>\n",
       "    <tr>\n",
       "      <th>33</th>\n",
       "      <td>0.590769</td>\n",
       "      <td>{'max_depth': 8, 'max_features': 8, 'n_estimat...</td>\n",
       "    </tr>\n",
       "    <tr>\n",
       "      <th>56</th>\n",
       "      <td>0.590769</td>\n",
       "      <td>{'max_depth': None, 'max_features': 'auto', 'n...</td>\n",
       "    </tr>\n",
       "    <tr>\n",
       "      <th>51</th>\n",
       "      <td>0.589231</td>\n",
       "      <td>{'max_depth': None, 'max_features': 10, 'n_est...</td>\n",
       "    </tr>\n",
       "    <tr>\n",
       "      <th>44</th>\n",
       "      <td>0.576923</td>\n",
       "      <td>{'max_depth': 8, 'max_features': 'auto', 'n_es...</td>\n",
       "    </tr>\n",
       "    <tr>\n",
       "      <th>43</th>\n",
       "      <td>0.575385</td>\n",
       "      <td>{'max_depth': 8, 'max_features': 'auto', 'n_es...</td>\n",
       "    </tr>\n",
       "    <tr>\n",
       "      <th>31</th>\n",
       "      <td>0.570769</td>\n",
       "      <td>{'max_depth': 8, 'max_features': 8, 'n_estimat...</td>\n",
       "    </tr>\n",
       "    <tr>\n",
       "      <th>36</th>\n",
       "      <td>0.567692</td>\n",
       "      <td>{'max_depth': 8, 'max_features': 10, 'n_estima...</td>\n",
       "    </tr>\n",
       "    <tr>\n",
       "      <th>42</th>\n",
       "      <td>0.558462</td>\n",
       "      <td>{'max_depth': 8, 'max_features': 'auto', 'n_es...</td>\n",
       "    </tr>\n",
       "    <tr>\n",
       "      <th>50</th>\n",
       "      <td>0.555385</td>\n",
       "      <td>{'max_depth': None, 'max_features': 10, 'n_est...</td>\n",
       "    </tr>\n",
       "    <tr>\n",
       "      <th>46</th>\n",
       "      <td>0.553846</td>\n",
       "      <td>{'max_depth': None, 'max_features': 8, 'n_esti...</td>\n",
       "    </tr>\n",
       "    <tr>\n",
       "      <th>41</th>\n",
       "      <td>0.552308</td>\n",
       "      <td>{'max_depth': 8, 'max_features': 'auto', 'n_es...</td>\n",
       "    </tr>\n",
       "    <tr>\n",
       "      <th>35</th>\n",
       "      <td>0.543077</td>\n",
       "      <td>{'max_depth': 8, 'max_features': 10, 'n_estima...</td>\n",
       "    </tr>\n",
       "    <tr>\n",
       "      <th>55</th>\n",
       "      <td>0.536923</td>\n",
       "      <td>{'max_depth': None, 'max_features': 'auto', 'n...</td>\n",
       "    </tr>\n",
       "    <tr>\n",
       "      <th>45</th>\n",
       "      <td>0.527692</td>\n",
       "      <td>{'max_depth': None, 'max_features': 8, 'n_esti...</td>\n",
       "    </tr>\n",
       "    <tr>\n",
       "      <th>40</th>\n",
       "      <td>0.527692</td>\n",
       "      <td>{'max_depth': 8, 'max_features': 'auto', 'n_es...</td>\n",
       "    </tr>\n",
       "    <tr>\n",
       "      <th>30</th>\n",
       "      <td>0.526154</td>\n",
       "      <td>{'max_depth': 8, 'max_features': 8, 'n_estimat...</td>\n",
       "    </tr>\n",
       "    <tr>\n",
       "      <th>24</th>\n",
       "      <td>0.523077</td>\n",
       "      <td>{'max_depth': 5, 'max_features': 10, 'n_estima...</td>\n",
       "    </tr>\n",
       "    <tr>\n",
       "      <th>23</th>\n",
       "      <td>0.523077</td>\n",
       "      <td>{'max_depth': 5, 'max_features': 10, 'n_estima...</td>\n",
       "    </tr>\n",
       "    <tr>\n",
       "      <th>22</th>\n",
       "      <td>0.512308</td>\n",
       "      <td>{'max_depth': 5, 'max_features': 10, 'n_estima...</td>\n",
       "    </tr>\n",
       "    <tr>\n",
       "      <th>17</th>\n",
       "      <td>0.512308</td>\n",
       "      <td>{'max_depth': 5, 'max_features': 8, 'n_estimat...</td>\n",
       "    </tr>\n",
       "    <tr>\n",
       "      <th>19</th>\n",
       "      <td>0.512308</td>\n",
       "      <td>{'max_depth': 5, 'max_features': 8, 'n_estimat...</td>\n",
       "    </tr>\n",
       "    <tr>\n",
       "      <th>20</th>\n",
       "      <td>0.510769</td>\n",
       "      <td>{'max_depth': 5, 'max_features': 10, 'n_estima...</td>\n",
       "    </tr>\n",
       "    <tr>\n",
       "      <th>16</th>\n",
       "      <td>0.507692</td>\n",
       "      <td>{'max_depth': 5, 'max_features': 8, 'n_estimat...</td>\n",
       "    </tr>\n",
       "    <tr>\n",
       "      <th>18</th>\n",
       "      <td>0.506154</td>\n",
       "      <td>{'max_depth': 5, 'max_features': 8, 'n_estimat...</td>\n",
       "    </tr>\n",
       "    <tr>\n",
       "      <th>21</th>\n",
       "      <td>0.487692</td>\n",
       "      <td>{'max_depth': 5, 'max_features': 10, 'n_estima...</td>\n",
       "    </tr>\n",
       "    <tr>\n",
       "      <th>28</th>\n",
       "      <td>0.486154</td>\n",
       "      <td>{'max_depth': 5, 'max_features': 'auto', 'n_es...</td>\n",
       "    </tr>\n",
       "    <tr>\n",
       "      <th>27</th>\n",
       "      <td>0.483077</td>\n",
       "      <td>{'max_depth': 5, 'max_features': 'auto', 'n_es...</td>\n",
       "    </tr>\n",
       "    <tr>\n",
       "      <th>29</th>\n",
       "      <td>0.480000</td>\n",
       "      <td>{'max_depth': 5, 'max_features': 'auto', 'n_es...</td>\n",
       "    </tr>\n",
       "    <tr>\n",
       "      <th>15</th>\n",
       "      <td>0.473846</td>\n",
       "      <td>{'max_depth': 5, 'max_features': 8, 'n_estimat...</td>\n",
       "    </tr>\n",
       "    <tr>\n",
       "      <th>25</th>\n",
       "      <td>0.464615</td>\n",
       "      <td>{'max_depth': 5, 'max_features': 'auto', 'n_es...</td>\n",
       "    </tr>\n",
       "    <tr>\n",
       "      <th>26</th>\n",
       "      <td>0.450769</td>\n",
       "      <td>{'max_depth': 5, 'max_features': 'auto', 'n_es...</td>\n",
       "    </tr>\n",
       "    <tr>\n",
       "      <th>13</th>\n",
       "      <td>0.370769</td>\n",
       "      <td>{'max_depth': 2, 'max_features': 'auto', 'n_es...</td>\n",
       "    </tr>\n",
       "    <tr>\n",
       "      <th>9</th>\n",
       "      <td>0.367692</td>\n",
       "      <td>{'max_depth': 2, 'max_features': 10, 'n_estima...</td>\n",
       "    </tr>\n",
       "    <tr>\n",
       "      <th>14</th>\n",
       "      <td>0.366154</td>\n",
       "      <td>{'max_depth': 2, 'max_features': 'auto', 'n_es...</td>\n",
       "    </tr>\n",
       "    <tr>\n",
       "      <th>2</th>\n",
       "      <td>0.364615</td>\n",
       "      <td>{'max_depth': 2, 'max_features': 8, 'n_estimat...</td>\n",
       "    </tr>\n",
       "    <tr>\n",
       "      <th>3</th>\n",
       "      <td>0.364615</td>\n",
       "      <td>{'max_depth': 2, 'max_features': 8, 'n_estimat...</td>\n",
       "    </tr>\n",
       "    <tr>\n",
       "      <th>1</th>\n",
       "      <td>0.364615</td>\n",
       "      <td>{'max_depth': 2, 'max_features': 8, 'n_estimat...</td>\n",
       "    </tr>\n",
       "    <tr>\n",
       "      <th>8</th>\n",
       "      <td>0.360000</td>\n",
       "      <td>{'max_depth': 2, 'max_features': 10, 'n_estima...</td>\n",
       "    </tr>\n",
       "    <tr>\n",
       "      <th>4</th>\n",
       "      <td>0.358462</td>\n",
       "      <td>{'max_depth': 2, 'max_features': 8, 'n_estimat...</td>\n",
       "    </tr>\n",
       "    <tr>\n",
       "      <th>5</th>\n",
       "      <td>0.355385</td>\n",
       "      <td>{'max_depth': 2, 'max_features': 10, 'n_estima...</td>\n",
       "    </tr>\n",
       "    <tr>\n",
       "      <th>7</th>\n",
       "      <td>0.349231</td>\n",
       "      <td>{'max_depth': 2, 'max_features': 10, 'n_estima...</td>\n",
       "    </tr>\n",
       "    <tr>\n",
       "      <th>6</th>\n",
       "      <td>0.346154</td>\n",
       "      <td>{'max_depth': 2, 'max_features': 10, 'n_estima...</td>\n",
       "    </tr>\n",
       "    <tr>\n",
       "      <th>12</th>\n",
       "      <td>0.346154</td>\n",
       "      <td>{'max_depth': 2, 'max_features': 'auto', 'n_es...</td>\n",
       "    </tr>\n",
       "    <tr>\n",
       "      <th>11</th>\n",
       "      <td>0.344615</td>\n",
       "      <td>{'max_depth': 2, 'max_features': 'auto', 'n_es...</td>\n",
       "    </tr>\n",
       "    <tr>\n",
       "      <th>0</th>\n",
       "      <td>0.340000</td>\n",
       "      <td>{'max_depth': 2, 'max_features': 8, 'n_estimat...</td>\n",
       "    </tr>\n",
       "    <tr>\n",
       "      <th>10</th>\n",
       "      <td>0.338462</td>\n",
       "      <td>{'max_depth': 2, 'max_features': 'auto', 'n_es...</td>\n",
       "    </tr>\n",
       "  </tbody>\n",
       "</table>\n",
       "</div>"
      ],
      "text/plain": [
       "    mean_test_score                                             params\n",
       "54         0.641538  {'max_depth': None, 'max_features': 10, 'n_est...\n",
       "49         0.635385  {'max_depth': None, 'max_features': 8, 'n_esti...\n",
       "58         0.635385  {'max_depth': None, 'max_features': 'auto', 'n...\n",
       "48         0.633846  {'max_depth': None, 'max_features': 8, 'n_esti...\n",
       "52         0.633846  {'max_depth': None, 'max_features': 10, 'n_est...\n",
       "53         0.629231  {'max_depth': None, 'max_features': 10, 'n_est...\n",
       "59         0.626154  {'max_depth': None, 'max_features': 'auto', 'n...\n",
       "47         0.610769  {'max_depth': None, 'max_features': 8, 'n_esti...\n",
       "57         0.610769  {'max_depth': None, 'max_features': 'auto', 'n...\n",
       "32         0.606154  {'max_depth': 8, 'max_features': 8, 'n_estimat...\n",
       "34         0.604615  {'max_depth': 8, 'max_features': 8, 'n_estimat...\n",
       "38         0.598462  {'max_depth': 8, 'max_features': 10, 'n_estima...\n",
       "39         0.593846  {'max_depth': 8, 'max_features': 10, 'n_estima...\n",
       "37         0.593846  {'max_depth': 8, 'max_features': 10, 'n_estima...\n",
       "33         0.590769  {'max_depth': 8, 'max_features': 8, 'n_estimat...\n",
       "56         0.590769  {'max_depth': None, 'max_features': 'auto', 'n...\n",
       "51         0.589231  {'max_depth': None, 'max_features': 10, 'n_est...\n",
       "44         0.576923  {'max_depth': 8, 'max_features': 'auto', 'n_es...\n",
       "43         0.575385  {'max_depth': 8, 'max_features': 'auto', 'n_es...\n",
       "31         0.570769  {'max_depth': 8, 'max_features': 8, 'n_estimat...\n",
       "36         0.567692  {'max_depth': 8, 'max_features': 10, 'n_estima...\n",
       "42         0.558462  {'max_depth': 8, 'max_features': 'auto', 'n_es...\n",
       "50         0.555385  {'max_depth': None, 'max_features': 10, 'n_est...\n",
       "46         0.553846  {'max_depth': None, 'max_features': 8, 'n_esti...\n",
       "41         0.552308  {'max_depth': 8, 'max_features': 'auto', 'n_es...\n",
       "35         0.543077  {'max_depth': 8, 'max_features': 10, 'n_estima...\n",
       "55         0.536923  {'max_depth': None, 'max_features': 'auto', 'n...\n",
       "45         0.527692  {'max_depth': None, 'max_features': 8, 'n_esti...\n",
       "40         0.527692  {'max_depth': 8, 'max_features': 'auto', 'n_es...\n",
       "30         0.526154  {'max_depth': 8, 'max_features': 8, 'n_estimat...\n",
       "24         0.523077  {'max_depth': 5, 'max_features': 10, 'n_estima...\n",
       "23         0.523077  {'max_depth': 5, 'max_features': 10, 'n_estima...\n",
       "22         0.512308  {'max_depth': 5, 'max_features': 10, 'n_estima...\n",
       "17         0.512308  {'max_depth': 5, 'max_features': 8, 'n_estimat...\n",
       "19         0.512308  {'max_depth': 5, 'max_features': 8, 'n_estimat...\n",
       "20         0.510769  {'max_depth': 5, 'max_features': 10, 'n_estima...\n",
       "16         0.507692  {'max_depth': 5, 'max_features': 8, 'n_estimat...\n",
       "18         0.506154  {'max_depth': 5, 'max_features': 8, 'n_estimat...\n",
       "21         0.487692  {'max_depth': 5, 'max_features': 10, 'n_estima...\n",
       "28         0.486154  {'max_depth': 5, 'max_features': 'auto', 'n_es...\n",
       "27         0.483077  {'max_depth': 5, 'max_features': 'auto', 'n_es...\n",
       "29         0.480000  {'max_depth': 5, 'max_features': 'auto', 'n_es...\n",
       "15         0.473846  {'max_depth': 5, 'max_features': 8, 'n_estimat...\n",
       "25         0.464615  {'max_depth': 5, 'max_features': 'auto', 'n_es...\n",
       "26         0.450769  {'max_depth': 5, 'max_features': 'auto', 'n_es...\n",
       "13         0.370769  {'max_depth': 2, 'max_features': 'auto', 'n_es...\n",
       "9          0.367692  {'max_depth': 2, 'max_features': 10, 'n_estima...\n",
       "14         0.366154  {'max_depth': 2, 'max_features': 'auto', 'n_es...\n",
       "2          0.364615  {'max_depth': 2, 'max_features': 8, 'n_estimat...\n",
       "3          0.364615  {'max_depth': 2, 'max_features': 8, 'n_estimat...\n",
       "1          0.364615  {'max_depth': 2, 'max_features': 8, 'n_estimat...\n",
       "8          0.360000  {'max_depth': 2, 'max_features': 10, 'n_estima...\n",
       "4          0.358462  {'max_depth': 2, 'max_features': 8, 'n_estimat...\n",
       "5          0.355385  {'max_depth': 2, 'max_features': 10, 'n_estima...\n",
       "7          0.349231  {'max_depth': 2, 'max_features': 10, 'n_estima...\n",
       "6          0.346154  {'max_depth': 2, 'max_features': 10, 'n_estima...\n",
       "12         0.346154  {'max_depth': 2, 'max_features': 'auto', 'n_es...\n",
       "11         0.344615  {'max_depth': 2, 'max_features': 'auto', 'n_es...\n",
       "0          0.340000  {'max_depth': 2, 'max_features': 8, 'n_estimat...\n",
       "10         0.338462  {'max_depth': 2, 'max_features': 'auto', 'n_es..."
      ]
     },
     "execution_count": 16,
     "metadata": {},
     "output_type": "execute_result"
    }
   ],
   "source": [
    "results = pd.DataFrame(results)[['mean_test_score','params']]\n",
    "results.sort_values(by='mean_test_score',ascending=False)"
   ]
  },
  {
   "cell_type": "code",
   "execution_count": 17,
   "metadata": {},
   "outputs": [
    {
     "data": {
      "text/plain": [
       "'Accuracy media: 0.614'"
      ]
     },
     "execution_count": 17,
     "metadata": {},
     "output_type": "execute_result"
    }
   ],
   "source": [
    "## initialize Random Forest and test with best found parameters\n",
    "rnf_clf = RandomForestClassifier(n_estimators=150, n_jobs=-1, max_features=8)\n",
    "rnf_score = cross_val_score(rnf_clf, X_train, y_train, cv=20, n_jobs=-1)\n",
    "'Accuracy media: {:0.3f}'.format(np.mean(rnf_score))"
   ]
  },
  {
   "cell_type": "code",
   "execution_count": 18,
   "metadata": {},
   "outputs": [
    {
     "data": {
      "text/plain": [
       "'Accuracy media: 0.640'"
      ]
     },
     "execution_count": 18,
     "metadata": {},
     "output_type": "execute_result"
    }
   ],
   "source": [
    "## initialize Extra Trees and test with best found parameters\n",
    "et_clf = ExtraTreesClassifier(n_estimators=150, n_jobs=-1, max_features=8)\n",
    "et_score = cross_val_score(et_clf, X_train, y_train, cv=20,n_jobs=-1)\n",
    "'Accuracy media: {:0.3f}'.format(np.mean(et_score))"
   ]
  },
  {
   "cell_type": "code",
   "execution_count": 21,
   "metadata": {},
   "outputs": [
    {
     "data": {
      "text/plain": [
       "[[Text(0, 0, 'RF'), Text(0, 1, 'ET')]]"
      ]
     },
     "execution_count": 21,
     "metadata": {},
     "output_type": "execute_result"
    },
    {
     "data": {
      "image/png": "[encoded data removed]",
      "text/plain": [
       "<Figure size 864x288 with 1 Axes>"
      ]
     },
     "metadata": {
      "needs_background": "light"
     },
     "output_type": "display_data"
    }
   ],
   "source": [
    "fig = plt.figure(figsize=(12,4))\n",
    "ax = fig.add_subplot()\n",
    "sn.boxplot(ax = ax,\n",
    "            data = [rnf_score, et_score],\n",
    "            palette = 'Wistia',\n",
    "            orient = 'h'\n",
    "           )\n",
    "ax.set(yticklabels=['RF','ET'])"
   ]
  },
  {
   "cell_type": "code",
   "execution_count": 22,
   "metadata": {},
   "outputs": [
    {
     "data": {
      "text/plain": [
       "ExtraTreesClassifier(max_features=8, n_estimators=150, n_jobs=-1)"
      ]
     },
     "execution_count": 22,
     "metadata": {},
     "output_type": "execute_result"
    }
   ],
   "source": [
    "rnf_clf.fit(X_train,y_train)\n",
    "et_clf.fit(X_train,y_train)"
   ]
  },
  {
   "cell_type": "code",
   "execution_count": 23,
   "metadata": {},
   "outputs": [
    {
     "data": {
      "text/plain": [
       "[('chroma_stft', 0.0972636485537366),\n",
       " ('rmse', 0.07905604662935796),\n",
       " ('mfcc4', 0.07713662269061872),\n",
       " ('mfcc1', 0.059038923218993275),\n",
       " ('spectral_bandwidth', 0.05093026280716991),\n",
       " ('mfcc17', 0.04859617641275387),\n",
       " ('mfcc9', 0.047341632722416635),\n",
       " ('rolloff', 0.047019133192688745),\n",
       " ('mfcc6', 0.04207338050540098),\n",
       " ('zero_crossing_rate', 0.039020556681830465)]"
      ]
     },
     "execution_count": 23,
     "metadata": {},
     "output_type": "execute_result"
    }
   ],
   "source": [
    "## identity the feature importance for potential dimensionality reduction\n",
    "named_feat_importance = dict(zip(X_train.columns, rnf_clf.feature_importances_))\n",
    "sorted(named_feat_importance.items(), key=lambda x:x[1], reverse=True)[:10]"
   ]
  },
  {
   "cell_type": "code",
   "execution_count": 24,
   "metadata": {},
   "outputs": [
    {
     "data": {
      "text/plain": [
       "'RandomForest accuracy media tuned: 0.618'"
      ]
     },
     "execution_count": 24,
     "metadata": {},
     "output_type": "execute_result"
    }
   ],
   "source": [
    "expected = y_test\n",
    "predicted = rnf_clf.predict(X_test)\n",
    "rnf_cnf_matrix = confusion_matrix(expected, predicted)\n",
    "rnf_score_tuned = cross_val_score(rnf_clf, X_test, y_test, cv = 20)\n",
    "rf = 'RandomForest accuracy media tuned: {:0.3f}'.format(np.mean(rnf_score_tuned))\n",
    "rf"
   ]
  },
  {
   "cell_type": "code",
   "execution_count": 25,
   "metadata": {},
   "outputs": [
    {
     "data": {
      "text/plain": [
       "0.6542857142857142"
      ]
     },
     "execution_count": 25,
     "metadata": {},
     "output_type": "execute_result"
    }
   ],
   "source": [
    "## Micro-averaging - In micro-averaging method, you sum up the individual true positives, false positives, \n",
    "## and false negatives of the system for different sets and the apply them. And the micro-average F1-Score\n",
    "## will be simply the harmonic mean of above two equations.\n",
    "f1_score(expected, predicted, average = 'micro')"
   ]
  },
  {
   "cell_type": "code",
   "execution_count": 26,
   "metadata": {},
   "outputs": [
    {
     "data": {
      "text/plain": [
       "0.3457142857142857"
      ]
     },
     "execution_count": 26,
     "metadata": {},
     "output_type": "execute_result"
    }
   ],
   "source": [
    "## In simplest of terms, Hamming-Loss is the fraction of labels that are incorrectly predicted, \n",
    "## i.e., the fraction of the wrong labels to the total number of labels.\n",
    "hamming_loss(expected, predicted)"
   ]
  },
  {
   "cell_type": "code",
   "execution_count": 27,
   "metadata": {},
   "outputs": [
    {
     "data": {
      "text/plain": [
       "0.6542857142857142"
      ]
     },
     "execution_count": 27,
     "metadata": {},
     "output_type": "execute_result"
    }
   ],
   "source": [
    "rf_accuracy = accuracy_score(expected, predicted)\n",
    "rf_accuracy"
   ]
  },
  {
   "cell_type": "code",
   "execution_count": 28,
   "metadata": {},
   "outputs": [
    {
     "data": {
      "text/plain": [
       "<AxesSubplot:xlabel='Predicted', ylabel='Actual'>"
      ]
     },
     "execution_count": 28,
     "metadata": {},
     "output_type": "execute_result"
    },
    {
     "data": {
      "image/png": "[encoded data removed]",
      "text/plain": [
       "<Figure size 720x504 with 2 Axes>"
      ]
     },
     "metadata": {
      "needs_background": "light"
     },
     "output_type": "display_data"
    }
   ],
   "source": [
    "data = rnf_cnf_matrix\n",
    "df_cm = pd.DataFrame(data, columns=np.unique(y_test), index = np.unique(y_test))\n",
    "df_cm.index.name = 'Actual'\n",
    "df_cm.columns.name = 'Predicted'\n",
    "plt.figure(figsize = (10,7))\n",
    "sn.set(font_scale=1.0)#for label size\n",
    "rf_heatmap = sn.heatmap(df_cm/np.sum(data), cmap=\"mako\", annot=True, fmt='.1%', annot_kws={\"size\": 10})# font size\n",
    "rf_heatmap"
   ]
  },
  {
   "cell_type": "code",
   "execution_count": 29,
   "metadata": {},
   "outputs": [
    {
     "data": {
      "text/plain": [
       "'ExtraTreesClassifier accuracy media tuned: 0.640'"
      ]
     },
     "execution_count": 29,
     "metadata": {},
     "output_type": "execute_result"
    }
   ],
   "source": [
    "expected = y_test\n",
    "predicted = et_clf.predict(X_test)\n",
    "et_cnf_matrix = confusion_matrix(expected, predicted)\n",
    "et_score_tuned = cross_val_score(et_clf, X_test, y_test, cv = 20)\n",
    "et = 'ExtraTreesClassifier accuracy media tuned: {:0.3f}'.format(np.mean(et_score_tuned))\n",
    "et"
   ]
  },
  {
   "cell_type": "code",
   "execution_count": 30,
   "metadata": {},
   "outputs": [
    {
     "data": {
      "text/plain": [
       "0.6885714285714286"
      ]
     },
     "execution_count": 30,
     "metadata": {},
     "output_type": "execute_result"
    }
   ],
   "source": [
    "## Micro-averaging - In micro-averaging method, you sum up the individual true positives, false positives, \n",
    "## and false negatives of the system for different sets and the apply them. And the micro-average F1-Score\n",
    "## will be simply the harmonic mean of above two equations.\n",
    "f1_score(expected, predicted, average = 'micro')"
   ]
  },
  {
   "cell_type": "code",
   "execution_count": 31,
   "metadata": {},
   "outputs": [
    {
     "data": {
      "text/plain": [
       "0.31142857142857144"
      ]
     },
     "execution_count": 31,
     "metadata": {},
     "output_type": "execute_result"
    }
   ],
   "source": [
    "## In simplest of terms, Hamming-Loss is the fraction of labels that are incorrectly predicted, \n",
    "## i.e., the fraction of the wrong labels to the total number of labels.\n",
    "hamming_loss(expected, predicted)"
   ]
  },
  {
   "cell_type": "code",
   "execution_count": 32,
   "metadata": {},
   "outputs": [
    {
     "data": {
      "text/plain": [
       "0.6885714285714286"
      ]
     },
     "execution_count": 32,
     "metadata": {},
     "output_type": "execute_result"
    }
   ],
   "source": [
    "et_accuracy = accuracy_score(expected, predicted)\n",
    "et_accuracy"
   ]
  },
  {
   "cell_type": "code",
   "execution_count": 33,
   "metadata": {},
   "outputs": [
    {
     "data": {
      "text/plain": [
       "<AxesSubplot:xlabel='Predicted', ylabel='Actual'>"
      ]
     },
     "execution_count": 33,
     "metadata": {},
     "output_type": "execute_result"
    },
    {
     "data": {
      "image/png": "[encoded data removed]",
      "text/plain": [
       "<Figure size 720x504 with 2 Axes>"
      ]
     },
     "metadata": {},
     "output_type": "display_data"
    }
   ],
   "source": [
    "data = et_cnf_matrix\n",
    "df_cm = pd.DataFrame(data, columns=np.unique(y_test), index = np.unique(y_test))\n",
    "df_cm.index.name = 'Actual'\n",
    "df_cm.columns.name = 'Predicted'\n",
    "plt.figure(figsize = (10,7))\n",
    "sn.set(font_scale=1.0)#for label size\n",
    "et_heatmap = sn.heatmap(df_cm/np.sum(data), cmap=\"crest\", annot=True, fmt='.1%', annot_kws={\"size\": 10})# font size\n",
    "et_heatmap"
   ]
  },
  {
   "cell_type": "code",
   "execution_count": 37,
   "metadata": {},
   "outputs": [
    {
     "data": {
      "text/plain": [
       "'Accuracy media tuned: 0.656'"
      ]
     },
     "execution_count": 37,
     "metadata": {},
     "output_type": "execute_result"
    }
   ],
   "source": [
    "ada_clf = AdaBoostClassifier(\n",
    "    ExtraTreesClassifier(n_estimators=150, n_jobs=-1, max_features=8),\n",
    "    algorithm='SAMME.R',\n",
    "    learning_rate=0.5\n",
    ")\n",
    "ada_score = cross_val_score(ada_clf, X_train, y_train, cv=20, n_jobs=-1)\n",
    "'Accuracy media tuned: {:0.3f}'.format(np.mean(ada_score))"
   ]
  },
  {
   "cell_type": "code",
   "execution_count": 38,
   "metadata": {},
   "outputs": [
    {
     "data": {
      "text/plain": [
       "[[Text(0, 0, 'RF'), Text(0, 1, 'ET'), Text(0, 2, 'ADA')]]"
      ]
     },
     "execution_count": 38,
     "metadata": {},
     "output_type": "execute_result"
    },
    {
     "data": {
      "image/png": "[encoded data removed]",
      "text/plain": [
       "<Figure size 864x288 with 1 Axes>"
      ]
     },
     "metadata": {},
     "output_type": "display_data"
    }
   ],
   "source": [
    "fig = plt.figure(figsize=(12,4))\n",
    "ax = fig.add_subplot()\n",
    "sn.boxplot(ax = ax,\n",
    "            data = [rnf_score_tuned, et_score_tuned, ada_score],\n",
    "            palette = 'viridis',\n",
    "            orient = 'h'\n",
    "           )\n",
    "ax.set(yticklabels=['RF','ET','ADA'])"
   ]
  },
  {
   "cell_type": "markdown",
   "metadata": {},
   "source": [
    "Of the three models, AdaBoost on ExtraTrees has the higher mean performance."
   ]
  },
  {
   "cell_type": "code",
   "execution_count": 39,
   "metadata": {},
   "outputs": [
    {
     "data": {
      "text/plain": [
       "AdaBoostClassifier(base_estimator=ExtraTreesClassifier(max_features=8,\n",
       "                                                       n_estimators=150,\n",
       "                                                       n_jobs=-1),\n",
       "                   learning_rate=0.5)"
      ]
     },
     "execution_count": 39,
     "metadata": {},
     "output_type": "execute_result"
    }
   ],
   "source": [
    "ada_clf.fit(X_train, y_train)"
   ]
  },
  {
   "cell_type": "code",
   "execution_count": 40,
   "metadata": {},
   "outputs": [
    {
     "data": {
      "text/plain": [
       "'AdaBoost Accuracy media tuned: 0.625'"
      ]
     },
     "execution_count": 40,
     "metadata": {},
     "output_type": "execute_result"
    }
   ],
   "source": [
    "expected = y_test\n",
    "predicted = ada_clf.predict(X_test)\n",
    "ada_cnf_matrix = confusion_matrix(expected, predicted)\n",
    "ada_score_tuned = cross_val_score(ada_clf, X_test, y_test, cv = 20)\n",
    "ada = 'AdaBoost Accuracy media tuned: {:0.3f}'.format(np.mean(ada_score_tuned))\n",
    "ada"
   ]
  },
  {
   "cell_type": "code",
   "execution_count": 41,
   "metadata": {},
   "outputs": [
    {
     "data": {
      "text/plain": [
       "0.7114285714285714"
      ]
     },
     "execution_count": 41,
     "metadata": {},
     "output_type": "execute_result"
    }
   ],
   "source": [
    "## Micro-averaging - In micro-averaging method, you sum up the individual true positives, false positives, \n",
    "## and false negatives of the system for different sets and the apply them. And the micro-average F1-Score\n",
    "## will be simply the harmonic mean of above two equations.\n",
    "f1_score(expected, predicted, average = 'micro')"
   ]
  },
  {
   "cell_type": "code",
   "execution_count": 42,
   "metadata": {},
   "outputs": [
    {
     "data": {
      "text/plain": [
       "0.2885714285714286"
      ]
     },
     "execution_count": 42,
     "metadata": {},
     "output_type": "execute_result"
    }
   ],
   "source": [
    "## In simplest of terms, Hamming-Loss is the fraction of labels that are incorrectly predicted, \n",
    "## i.e., the fraction of the wrong labels to the total number of labels.\n",
    "hamming_loss(expected, predicted)"
   ]
  },
  {
   "cell_type": "code",
   "execution_count": 43,
   "metadata": {},
   "outputs": [
    {
     "data": {
      "text/plain": [
       "0.7114285714285714"
      ]
     },
     "execution_count": 43,
     "metadata": {},
     "output_type": "execute_result"
    }
   ],
   "source": [
    "ada_accuracy = accuracy_score(expected, predicted)\n",
    "ada_accuracy"
   ]
  },
  {
   "cell_type": "code",
   "execution_count": 44,
   "metadata": {},
   "outputs": [
    {
     "data": {
      "text/plain": [
       "<AxesSubplot:xlabel='Predicted', ylabel='Actual'>"
      ]
     },
     "execution_count": 44,
     "metadata": {},
     "output_type": "execute_result"
    },
    {
     "data": {
      "image/png": "[encoded data removed]",
      "text/plain": [
       "<Figure size 720x504 with 2 Axes>"
      ]
     },
     "metadata": {},
     "output_type": "display_data"
    }
   ],
   "source": [
    "data = ada_cnf_matrix\n",
    "df_cm = pd.DataFrame(data, columns=np.unique(y_test), index = np.unique(y_test))\n",
    "df_cm.index.name = 'Actual'\n",
    "df_cm.columns.name = 'Predicted'\n",
    "plt.figure(figsize = (10,7))\n",
    "sn.set(font_scale=1.0)#for label size\n",
    "ada_heatmap = sn.heatmap(df_cm/np.sum(data), cmap=\"rocket_r\", annot=True, fmt='.1%', annot_kws={\"size\": 10})# font size\n",
    "ada_heatmap"
   ]
  },
  {
   "cell_type": "code",
   "execution_count": 45,
   "metadata": {},
   "outputs": [
    {
     "data": {
      "text/html": [
       "<div>\n",
       "<style scoped>\n",
       "    .dataframe tbody tr th:only-of-type {\n",
       "        vertical-align: middle;\n",
       "    }\n",
       "\n",
       "    .dataframe tbody tr th {\n",
       "        vertical-align: top;\n",
       "    }\n",
       "\n",
       "    .dataframe thead th {\n",
       "        text-align: right;\n",
       "    }\n",
       "</style>\n",
       "<table border=\"1\" class=\"dataframe\">\n",
       "  <thead>\n",
       "    <tr style=\"text-align: right;\">\n",
       "      <th></th>\n",
       "      <th>blues</th>\n",
       "      <th>classical</th>\n",
       "      <th>country</th>\n",
       "      <th>disco</th>\n",
       "      <th>hiphop</th>\n",
       "      <th>jazz</th>\n",
       "      <th>metal</th>\n",
       "      <th>pop</th>\n",
       "      <th>reggae</th>\n",
       "      <th>rock</th>\n",
       "    </tr>\n",
       "  </thead>\n",
       "  <tbody>\n",
       "    <tr>\n",
       "      <th>0</th>\n",
       "      <td>5.617169e-03</td>\n",
       "      <td>1.078995e-14</td>\n",
       "      <td>3.930963e-07</td>\n",
       "      <td>2.058762e-03</td>\n",
       "      <td>3.617331e-02</td>\n",
       "      <td>5.989672e-11</td>\n",
       "      <td>9.483321e-01</td>\n",
       "      <td>4.530143e-15</td>\n",
       "      <td>5.089683e-11</td>\n",
       "      <td>7.818252e-03</td>\n",
       "    </tr>\n",
       "    <tr>\n",
       "      <th>1</th>\n",
       "      <td>2.311523e-10</td>\n",
       "      <td>8.255734e-05</td>\n",
       "      <td>5.447152e-02</td>\n",
       "      <td>3.279230e-01</td>\n",
       "      <td>1.697330e-01</td>\n",
       "      <td>3.794909e-02</td>\n",
       "      <td>2.750336e-09</td>\n",
       "      <td>1.982554e-01</td>\n",
       "      <td>9.923458e-02</td>\n",
       "      <td>1.123508e-01</td>\n",
       "    </tr>\n",
       "    <tr>\n",
       "      <th>2</th>\n",
       "      <td>7.132409e-08</td>\n",
       "      <td>3.669691e-15</td>\n",
       "      <td>5.258720e-13</td>\n",
       "      <td>1.294328e-02</td>\n",
       "      <td>3.122727e-02</td>\n",
       "      <td>1.912048e-09</td>\n",
       "      <td>9.558294e-01</td>\n",
       "      <td>6.036881e-14</td>\n",
       "      <td>4.824696e-13</td>\n",
       "      <td>2.249864e-08</td>\n",
       "    </tr>\n",
       "    <tr>\n",
       "      <th>3</th>\n",
       "      <td>3.394794e-02</td>\n",
       "      <td>8.029402e-01</td>\n",
       "      <td>9.337603e-02</td>\n",
       "      <td>2.333829e-10</td>\n",
       "      <td>1.231314e-13</td>\n",
       "      <td>6.967635e-02</td>\n",
       "      <td>1.742895e-15</td>\n",
       "      <td>2.165030e-06</td>\n",
       "      <td>4.503445e-05</td>\n",
       "      <td>1.227721e-05</td>\n",
       "    </tr>\n",
       "    <tr>\n",
       "      <th>4</th>\n",
       "      <td>1.064332e-01</td>\n",
       "      <td>2.950410e-01</td>\n",
       "      <td>8.438821e-02</td>\n",
       "      <td>5.118569e-02</td>\n",
       "      <td>8.195984e-03</td>\n",
       "      <td>2.859145e-01</td>\n",
       "      <td>1.582778e-03</td>\n",
       "      <td>3.403235e-02</td>\n",
       "      <td>7.224307e-02</td>\n",
       "      <td>6.098317e-02</td>\n",
       "    </tr>\n",
       "    <tr>\n",
       "      <th>...</th>\n",
       "      <td>...</td>\n",
       "      <td>...</td>\n",
       "      <td>...</td>\n",
       "      <td>...</td>\n",
       "      <td>...</td>\n",
       "      <td>...</td>\n",
       "      <td>...</td>\n",
       "      <td>...</td>\n",
       "      <td>...</td>\n",
       "      <td>...</td>\n",
       "    </tr>\n",
       "    <tr>\n",
       "      <th>345</th>\n",
       "      <td>5.877945e-02</td>\n",
       "      <td>5.220326e-01</td>\n",
       "      <td>4.880468e-02</td>\n",
       "      <td>2.187221e-07</td>\n",
       "      <td>6.921634e-10</td>\n",
       "      <td>3.667634e-01</td>\n",
       "      <td>3.512517e-14</td>\n",
       "      <td>1.450628e-07</td>\n",
       "      <td>3.618480e-03</td>\n",
       "      <td>1.018338e-06</td>\n",
       "    </tr>\n",
       "    <tr>\n",
       "      <th>346</th>\n",
       "      <td>5.721593e-12</td>\n",
       "      <td>1.319540e-13</td>\n",
       "      <td>7.002489e-02</td>\n",
       "      <td>8.788760e-02</td>\n",
       "      <td>8.630475e-02</td>\n",
       "      <td>1.433411e-02</td>\n",
       "      <td>1.255821e-10</td>\n",
       "      <td>6.682885e-01</td>\n",
       "      <td>6.647275e-02</td>\n",
       "      <td>6.687374e-03</td>\n",
       "    </tr>\n",
       "    <tr>\n",
       "      <th>347</th>\n",
       "      <td>3.482143e-01</td>\n",
       "      <td>6.267804e-02</td>\n",
       "      <td>1.593589e-01</td>\n",
       "      <td>9.139584e-05</td>\n",
       "      <td>1.607896e-03</td>\n",
       "      <td>2.349985e-01</td>\n",
       "      <td>5.550980e-12</td>\n",
       "      <td>4.598348e-04</td>\n",
       "      <td>1.341041e-01</td>\n",
       "      <td>5.848706e-02</td>\n",
       "    </tr>\n",
       "    <tr>\n",
       "      <th>348</th>\n",
       "      <td>8.019539e-03</td>\n",
       "      <td>6.743136e-02</td>\n",
       "      <td>5.863407e-02</td>\n",
       "      <td>1.815182e-01</td>\n",
       "      <td>2.108875e-01</td>\n",
       "      <td>6.575523e-02</td>\n",
       "      <td>3.438272e-03</td>\n",
       "      <td>2.417810e-01</td>\n",
       "      <td>1.059774e-01</td>\n",
       "      <td>5.655743e-02</td>\n",
       "    </tr>\n",
       "    <tr>\n",
       "      <th>349</th>\n",
       "      <td>1.197858e-02</td>\n",
       "      <td>8.883208e-01</td>\n",
       "      <td>1.959664e-02</td>\n",
       "      <td>5.873303e-03</td>\n",
       "      <td>1.076889e-14</td>\n",
       "      <td>7.421561e-02</td>\n",
       "      <td>7.589941e-14</td>\n",
       "      <td>1.064307e-11</td>\n",
       "      <td>1.503775e-05</td>\n",
       "      <td>3.574181e-09</td>\n",
       "    </tr>\n",
       "  </tbody>\n",
       "</table>\n",
       "<p>350 rows × 10 columns</p>\n",
       "</div>"
      ],
      "text/plain": [
       "            blues     classical       country         disco        hiphop  \\\n",
       "0    5.617169e-03  1.078995e-14  3.930963e-07  2.058762e-03  3.617331e-02   \n",
       "1    2.311523e-10  8.255734e-05  5.447152e-02  3.279230e-01  1.697330e-01   \n",
       "2    7.132409e-08  3.669691e-15  5.258720e-13  1.294328e-02  3.122727e-02   \n",
       "3    3.394794e-02  8.029402e-01  9.337603e-02  2.333829e-10  1.231314e-13   \n",
       "4    1.064332e-01  2.950410e-01  8.438821e-02  5.118569e-02  8.195984e-03   \n",
       "..            ...           ...           ...           ...           ...   \n",
       "345  5.877945e-02  5.220326e-01  4.880468e-02  2.187221e-07  6.921634e-10   \n",
       "346  5.721593e-12  1.319540e-13  7.002489e-02  8.788760e-02  8.630475e-02   \n",
       "347  3.482143e-01  6.267804e-02  1.593589e-01  9.139584e-05  1.607896e-03   \n",
       "348  8.019539e-03  6.743136e-02  5.863407e-02  1.815182e-01  2.108875e-01   \n",
       "349  1.197858e-02  8.883208e-01  1.959664e-02  5.873303e-03  1.076889e-14   \n",
       "\n",
       "             jazz         metal           pop        reggae          rock  \n",
       "0    5.989672e-11  9.483321e-01  4.530143e-15  5.089683e-11  7.818252e-03  \n",
       "1    3.794909e-02  2.750336e-09  1.982554e-01  9.923458e-02  1.123508e-01  \n",
       "2    1.912048e-09  9.558294e-01  6.036881e-14  4.824696e-13  2.249864e-08  \n",
       "3    6.967635e-02  1.742895e-15  2.165030e-06  4.503445e-05  1.227721e-05  \n",
       "4    2.859145e-01  1.582778e-03  3.403235e-02  7.224307e-02  6.098317e-02  \n",
       "..            ...           ...           ...           ...           ...  \n",
       "345  3.667634e-01  3.512517e-14  1.450628e-07  3.618480e-03  1.018338e-06  \n",
       "346  1.433411e-02  1.255821e-10  6.682885e-01  6.647275e-02  6.687374e-03  \n",
       "347  2.349985e-01  5.550980e-12  4.598348e-04  1.341041e-01  5.848706e-02  \n",
       "348  6.575523e-02  3.438272e-03  2.417810e-01  1.059774e-01  5.655743e-02  \n",
       "349  7.421561e-02  7.589941e-14  1.064307e-11  1.503775e-05  3.574181e-09  \n",
       "\n",
       "[350 rows x 10 columns]"
      ]
     },
     "execution_count": 45,
     "metadata": {},
     "output_type": "execute_result"
    }
   ],
   "source": [
    "pd.DataFrame(ada_clf.predict_proba(X_test), columns = ada_clf.classes_)"
   ]
  },
  {
   "cell_type": "code",
   "execution_count": 46,
   "metadata": {},
   "outputs": [],
   "source": [
    "## run the model keeping the calculated most important features\n",
    "data = raw_data_uncorr[['label','chroma_stft','rmse','mfcc4','mfcc1','spectral_bandwidth','mfcc17','mfcc6','zero_crossing_rate','mfcc13','rolloff']]"
   ]
  },
  {
   "cell_type": "code",
   "execution_count": 47,
   "metadata": {},
   "outputs": [],
   "source": [
    "X = data.iloc[:,1:]\n",
    "Y = data.iloc[:,0]\n",
    "\n",
    "X_train, X_test, y_train, y_test = train_test_split(X,Y,\n",
    "                                                   test_size=0.35,\n",
    "                                                   stratify=Y)"
   ]
  },
  {
   "cell_type": "code",
   "execution_count": 48,
   "metadata": {},
   "outputs": [
    {
     "data": {
      "text/plain": [
       "'Accuracy media: 0.623'"
      ]
     },
     "execution_count": 48,
     "metadata": {},
     "output_type": "execute_result"
    }
   ],
   "source": [
    "et_score_small = cross_val_score(et_clf, X_train, y_train, cv=20,n_jobs=-1)\n",
    "'Accuracy media: {:0.3f}'.format(np.mean(et_score_small))"
   ]
  },
  {
   "cell_type": "code",
   "execution_count": 49,
   "metadata": {},
   "outputs": [
    {
     "data": {
      "text/plain": [
       "'Accuracy media: 0.607'"
      ]
     },
     "execution_count": 49,
     "metadata": {},
     "output_type": "execute_result"
    }
   ],
   "source": [
    "rnf_score_small = cross_val_score(rnf_clf, X_train, y_train, cv=20, n_jobs=-1)\n",
    "'Accuracy media: {:0.3f}'.format(np.mean(rnf_score_small))"
   ]
  },
  {
   "cell_type": "code",
   "execution_count": 50,
   "metadata": {},
   "outputs": [
    {
     "data": {
      "text/plain": [
       "'Accuracy media tuned: 0.620'"
      ]
     },
     "execution_count": 50,
     "metadata": {},
     "output_type": "execute_result"
    }
   ],
   "source": [
    "ada_score_small = cross_val_score(ada_clf, X_train, y_train, cv=20, n_jobs=-1)\n",
    "'Accuracy media tuned: {:0.3f}'.format(np.mean(ada_score_small))"
   ]
  },
  {
   "cell_type": "markdown",
   "metadata": {},
   "source": [
    "The model on most important features performs on average slightly less good than running the algorithms on the entire dataset."
   ]
  },
  {
   "cell_type": "code",
   "execution_count": 52,
   "metadata": {},
   "outputs": [
    {
     "name": "stdout",
     "output_type": "stream",
     "text": [
      "Stored 'et_accuracy' (float64)\n",
      "Stored 'rf_accuracy' (float64)\n",
      "Stored 'ada_accuracy' (float64)\n",
      "Stored 'y_test' (Series)\n"
     ]
    }
   ],
   "source": [
    "%store et_accuracy\n",
    "%store rf_accuracy\n",
    "%store ada_accuracy\n",
    "%store y_test\n",
    "%store -r et_cnf_matrix \n",
    "%store -r rnf_cnf_matrix \n",
    "%store -r ada_cnf_matrix "
   ]
  }
 ],
 "metadata": {
  "kernelspec": {
   "display_name": "Python 3",
   "language": "python",
   "name": "python3"
  },
  "language_info": {
   "codemirror_mode": {
    "name": "ipython",
    "version": 3
   },
   "file_extension": ".py",
   "mimetype": "text/x-python",
   "name": "python",
   "nbconvert_exporter": "python",
   "pygments_lexer": "ipython3",
   "version": "3.8.5"
  }
 },
 "nbformat": 4,
 "nbformat_minor": 4
}
