{
 "cells": [
  {
   "cell_type": "code",
   "execution_count": null,
   "metadata": {},
   "outputs": [],
   "source": [
    "## import the necessary libraries\n",
    "import os\n",
    "\n",
    "# Data management\n",
    "import pandas as pd\n",
    "\n",
    "# Data preprocessing and trasformation (ETL)\n",
    "from sklearn.experimental import enable_iterative_imputer\n",
    "from sklearn.impute import SimpleImputer, IterativeImputer\n",
    "from sklearn.base import BaseEstimator, TransformerMixin\n",
    "from sklearn.preprocessing import StandardScaler, MinMaxScaler\n",
    "from sklearn.pipeline import Pipeline\n",
    "from sklearn.compose import ColumnTransformer\n",
    "from sklearn.model_selection import train_test_split\n",
    "from sklearn.decomposition import PCA\n",
    "from sklearn import datasets, svm, metrics\n",
    "\n",
    "# Math and Stat modules\n",
    "import numpy as np\n",
    "from scipy.special import logit, expit\n",
    "from scipy import stats\n",
    "\n",
    "#Supervised Learning\n",
    "\n",
    "# Unsupervised Learning\n",
    "\n",
    "# Visualization\n",
    "import matplotlib.pyplot as plt\n",
    "from pandas.plotting import scatter_matrix\n",
    "import seaborn as sns"
   ]
  },
  {
   "cell_type": "code",
   "execution_count": null,
   "metadata": {},
   "outputs": [],
   "source": [
    "raw_data = pd.read_csv('data_2genre.csv')\n",
    "raw_data.info()"
   ]
  },
  {
   "cell_type": "code",
   "execution_count": null,
   "metadata": {},
   "outputs": [],
   "source": [
    "raw_data.head()"
   ]
  },
  {
   "cell_type": "code",
   "execution_count": null,
   "metadata": {},
   "outputs": [],
   "source": [
    "raw_data = raw_data.drop(columns = 'filename')"
   ]
  },
  {
   "cell_type": "code",
   "execution_count": null,
   "metadata": {},
   "outputs": [],
   "source": [
    "raw_data.describe()"
   ]
  },
  {
   "cell_type": "code",
   "execution_count": null,
   "metadata": {},
   "outputs": [],
   "source": [
    "raw_data.hist(figsize = (20,15))\n",
    "plt.show()"
   ]
  },
  {
   "cell_type": "code",
   "execution_count": null,
   "metadata": {},
   "outputs": [],
   "source": [
    "corr_raw = raw_data.corr()\n",
    "mask = np.triu(np.ones_like(corr_raw, dtype=bool))\n",
    "f, ax = plt.subplots(figsize=(10, 7))\n",
    "sns.heatmap(corr_raw, cmap = \"viridis\", vmax = 1, center=0,\n",
    "            square=True, cbar_kws={\"shrink\": .90})"
   ]
  },
  {
   "cell_type": "code",
   "execution_count": null,
   "metadata": {},
   "outputs": [],
   "source": [
    "max = corr_raw[corr_raw != 1.0].max()\n",
    "max.sort_values(ascending = False)"
   ]
  },
  {
   "cell_type": "code",
   "execution_count": null,
   "metadata": {},
   "outputs": [],
   "source": [
    "min = corr_raw[corr_raw != -1.0].min()\n",
    "min.sort_values(ascending = True)"
   ]
  },
  {
   "cell_type": "code",
   "execution_count": null,
   "metadata": {},
   "outputs": [],
   "source": [
    "subset1 = raw_data[['tempo', 'beats', 'chroma_stft', 'rmse', 'spectral_centroid',\n",
    "       'spectral_bandwidth', 'rolloff', 'zero_crossing_rate', 'label']]\n",
    "subset2 = raw_data[['mfcc1', 'mfcc2',\n",
    "       'mfcc3', 'mfcc4', 'mfcc5', 'mfcc6', 'mfcc7', 'mfcc8', 'mfcc9', 'mfcc10',\n",
    "       'mfcc11', 'mfcc12', 'mfcc13', 'mfcc14', 'mfcc15', 'mfcc16', 'mfcc17',\n",
    "       'mfcc18', 'mfcc19', 'mfcc20', 'label']]"
   ]
  },
  {
   "cell_type": "code",
   "execution_count": null,
   "metadata": {},
   "outputs": [],
   "source": [
    "# g = sns.pairplot(raw_data, hue=\"label\", palette=\"husl\")"
   ]
  },
  {
   "cell_type": "code",
   "execution_count": null,
   "metadata": {},
   "outputs": [],
   "source": [
    "g1 = sns.pairplot(subset1, hue=\"label\", palette=\"husl\")"
   ]
  },
  {
   "cell_type": "code",
   "execution_count": null,
   "metadata": {},
   "outputs": [],
   "source": [
    "g2 = sns.pairplot(subset2, hue=\"label\", palette=\"husl\")"
   ]
  },
  {
   "cell_type": "code",
   "execution_count": null,
   "metadata": {},
   "outputs": [],
   "source": [
    "genre = raw_data\n",
    "columns = genre.groupby(['label']).mean().columns\n",
    "labels = genre.label.unique()\n",
    "fig, ax = plt.subplots(figsize=(20,10)) \n",
    "sns.heatmap(genre.groupby(['label']).mean().iloc[:,0:80], cmap = 'plasma', yticklabels=labels)\n",
    "plt.ylabel(\"Music Genre\")\n",
    "plt.xlabel(\"Features (Mean)\")\n",
    "plt.show()"
   ]
  },
  {
   "cell_type": "code",
   "execution_count": null,
   "metadata": {},
   "outputs": [],
   "source": [
    "## save raw data for algoritm\n",
    "raw_data2 = raw_data\n",
    "%store raw_data2"
   ]
  },
  {
   "cell_type": "code",
   "execution_count": null,
   "metadata": {},
   "outputs": [],
   "source": [
    "## drop corr variables\n",
    "raw_data_uncorr = raw_data.drop(columns = ['tempo','spectral_centroid','mfcc2','mfcc8'])"
   ]
  },
  {
   "cell_type": "code",
   "execution_count": null,
   "metadata": {},
   "outputs": [],
   "source": [
    "corr_raw1 = raw_data_uncorr.corr()\n",
    "mask = np.triu(np.ones_like(corr_raw1, dtype=bool))\n",
    "f, ax = plt.subplots(figsize=(10, 7))\n",
    "sns.heatmap(corr_raw1, cmap = \"viridis\", vmax = 1, center=0,\n",
    "            square=True, cbar_kws={\"shrink\": .90})"
   ]
  },
  {
   "cell_type": "code",
   "execution_count": null,
   "metadata": {},
   "outputs": [],
   "source": [
    "## save raw data for algoritm\n",
    "raw_data_uncorr2 = raw_data_uncorr\n",
    "%store raw_data_uncorr2"
   ]
  },
  {
   "cell_type": "code",
   "execution_count": null,
   "metadata": {},
   "outputs": [],
   "source": []
  }
 ],
 "metadata": {
  "kernelspec": {
   "display_name": "Python 3",
   "language": "python",
   "name": "python3"
  },
  "language_info": {
   "codemirror_mode": {
    "name": "ipython",
    "version": 3
   },
   "file_extension": ".py",
   "mimetype": "text/x-python",
   "name": "python",
   "nbconvert_exporter": "python",
   "pygments_lexer": "ipython3",
   "version": "3.8.5"
  }
 },
 "nbformat": 4,
 "nbformat_minor": 4
}
