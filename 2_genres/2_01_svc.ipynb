{
 "cells": [
  {
   "cell_type": "code",
   "execution_count": 1,
   "metadata": {},
   "outputs": [
    {
     "data": {
      "text/html": [
       "        <script type=\"text/javascript\">\n",
       "        window.PlotlyConfig = {MathJaxConfig: 'local'};\n",
       "        if (window.MathJax) {MathJax.Hub.Config({SVG: {font: \"STIX-Web\"}});}\n",
       "        if (typeof require !== 'undefined') {\n",
       "        require.undef(\"plotly\");\n",
       "        requirejs.config({\n",
       "            paths: {\n",
       "                'plotly': ['https://cdn.plot.ly/plotly-latest.min']\n",
       "            }\n",
       "        });\n",
       "        require(['plotly'], function(Plotly) {\n",
       "            window._Plotly = Plotly;\n",
       "        });\n",
       "        }\n",
       "        </script>\n",
       "        "
      ]
     },
     "metadata": {},
     "output_type": "display_data"
    }
   ],
   "source": [
    "## spot-checking\n",
    "## # Load libraries\n",
    "from pandas import set_option\n",
    "from pandas.plotting import scatter_matrix\n",
    "from sklearn.preprocessing import StandardScaler\n",
    "from sklearn.preprocessing import RobustScaler\n",
    "from sklearn.model_selection import train_test_split\n",
    "from sklearn.model_selection import KFold\n",
    "from sklearn.model_selection import StratifiedKFold\n",
    "from sklearn.model_selection import cross_val_score\n",
    "from sklearn.model_selection import learning_curve\n",
    "from sklearn.model_selection import GridSearchCV\n",
    "from sklearn.metrics import classification_report\n",
    "from sklearn.metrics import confusion_matrix\n",
    "from sklearn.metrics import accuracy_score\n",
    "from sklearn.pipeline import Pipeline\n",
    "from sklearn.tree import DecisionTreeClassifier\n",
    "from sklearn.neighbors import KNeighborsClassifier\n",
    "from sklearn.svm import SVC\n",
    "from sklearn.ensemble import AdaBoostClassifier\n",
    "from sklearn.ensemble import GradientBoostingClassifier\n",
    "from sklearn.ensemble import RandomForestClassifier\n",
    "from sklearn.ensemble import ExtraTreesClassifier\n",
    "\n",
    "import sys\n",
    "import os\n",
    "import pandas as pd\n",
    "import numpy as np\n",
    "\n",
    "import matplotlib.pyplot as plt\n",
    "import seaborn as sns\n",
    "from IPython.display import display\n",
    "%matplotlib inline\n",
    "\n",
    "import plotly.offline as py\n",
    "import plotly.graph_objs as go\n",
    "import plotly.tools as tls\n",
    "py.init_notebook_mode(connected=True)\n",
    "\n",
    "import warnings\n",
    "warnings.filterwarnings('ignore')\n",
    "\n",
    "from sklearn.metrics import confusion_matrix\n",
    "import pandas as pd\n",
    "import seaborn as sn\n",
    "import matplotlib.pyplot as plt\n",
    "%matplotlib inline\n",
    "import numpy as np"
   ]
  },
  {
   "cell_type": "code",
   "execution_count": 2,
   "metadata": {},
   "outputs": [],
   "source": [
    "# retrieve variables\n",
    "%store -r raw_data2\n",
    "%store -r raw_data_uncorr2"
   ]
  },
  {
   "cell_type": "code",
   "execution_count": 3,
   "metadata": {},
   "outputs": [],
   "source": [
    "## SVC with complete data\n",
    "## devide train test tentative with stratification to keep the distribution\n",
    "## raw_data parames [28] / raw_data_uncorr [24]\n",
    "X = raw_data_uncorr2.iloc[:,:24]\n",
    "Y = raw_data_uncorr2.iloc[:,24]\n",
    "\n",
    "X_train, X_test, y_train, y_test = train_test_split(X,Y,\n",
    "                                                   test_size=0.45,\n",
    "                                                   stratify=Y)        "
   ]
  },
  {
   "cell_type": "code",
   "execution_count": 4,
   "metadata": {},
   "outputs": [],
   "source": [
    "## scaling train and test dataset with StandardScaler since our distribution are normal more or less\n",
    "X_train = pd.DataFrame(StandardScaler().fit_transform(X_train))\n",
    "X_test = pd.DataFrame(StandardScaler().fit_transform(X_test))"
   ]
  },
  {
   "cell_type": "code",
   "execution_count": 5,
   "metadata": {},
   "outputs": [
    {
     "name": "stderr",
     "output_type": "stream",
     "text": [
      "[Parallel(n_jobs=-1)]: Using backend LokyBackend with 8 concurrent workers.\n",
      "[Parallel(n_jobs=-1)]: Done   3 out of  10 | elapsed:    1.3s remaining:    3.1s\n",
      "[Parallel(n_jobs=-1)]: Done   5 out of  10 | elapsed:    1.3s remaining:    1.3s\n",
      "[Parallel(n_jobs=-1)]: Done   7 out of  10 | elapsed:    1.3s remaining:    0.6s\n",
      "[Parallel(n_jobs=-1)]: Done  10 out of  10 | elapsed:    1.4s finished\n"
     ]
    },
    {
     "data": {
      "text/plain": [
       "'Accuracy media: 0.973'"
      ]
     },
     "execution_count": 5,
     "metadata": {},
     "output_type": "execute_result"
    }
   ],
   "source": [
    "## we do not have a linear separable dataset it seems, therefore we try with radial kernel (first attempt with default parameters)\n",
    "svm_rbf_clf = SVC(kernel = 'rbf', C = 1.0, gamma = 'scale')\n",
    "svm_rbf_score = cross_val_score(svm_rbf_clf, X_train, y_train, cv = 10, n_jobs = -1, verbose = 10)\n",
    "'Accuracy media: {:0.3f}'.format(np.mean(svm_rbf_score))"
   ]
  },
  {
   "cell_type": "code",
   "execution_count": 16,
   "metadata": {},
   "outputs": [
    {
     "name": "stderr",
     "output_type": "stream",
     "text": [
      "[Parallel(n_jobs=-1)]: Using backend LokyBackend with 8 concurrent workers.\n",
      "[Parallel(n_jobs=-1)]: Batch computation too fast (0.0098s.) Setting batch_size=2.\n",
      "[Parallel(n_jobs=-1)]: Done   3 out of  10 | elapsed:    0.0s remaining:    0.1s\n",
      "[Parallel(n_jobs=-1)]: Done   5 out of  10 | elapsed:    0.0s remaining:    0.0s\n",
      "[Parallel(n_jobs=-1)]: Done   7 out of  10 | elapsed:    0.1s remaining:    0.0s\n",
      "[Parallel(n_jobs=-1)]: Done  10 out of  10 | elapsed:    0.1s finished\n"
     ]
    },
    {
     "data": {
      "text/plain": [
       "'Accuracy media tuned: 0.991'"
      ]
     },
     "execution_count": 16,
     "metadata": {},
     "output_type": "execute_result"
    }
   ],
   "source": [
    "## run the 'poly' kernel with default parameters\n",
    "svm_poly_clf = SVC(kernel=\"poly\", degree=3, coef0=0.0, C=1)\n",
    "svm_poly_scores = cross_val_score(svm_poly_clf, X_train, y_train, cv=10, n_jobs = -1, verbose = 10)\n",
    "'Accuracy media tuned: {:0.3f}'.format(np.mean(svm_poly_scores))"
   ]
  },
  {
   "cell_type": "code",
   "execution_count": 17,
   "metadata": {},
   "outputs": [
    {
     "name": "stderr",
     "output_type": "stream",
     "text": [
      "[Parallel(n_jobs=-1)]: Using backend LokyBackend with 8 concurrent workers.\n",
      "[Parallel(n_jobs=-1)]: Batch computation too fast (0.0104s.) Setting batch_size=2.\n",
      "[Parallel(n_jobs=-1)]: Done   3 out of  10 | elapsed:    0.0s remaining:    0.1s\n",
      "[Parallel(n_jobs=-1)]: Done   5 out of  10 | elapsed:    0.0s remaining:    0.0s\n",
      "[Parallel(n_jobs=-1)]: Done   7 out of  10 | elapsed:    0.0s remaining:    0.0s\n",
      "[Parallel(n_jobs=-1)]: Done  10 out of  10 | elapsed:    0.1s finished\n"
     ]
    },
    {
     "data": {
      "text/plain": [
       "'Accuracy media tuned: 1.000'"
      ]
     },
     "execution_count": 17,
     "metadata": {},
     "output_type": "execute_result"
    }
   ],
   "source": [
    "## run the 'sigmoid' kernel with default parameters\n",
    "svm_poly_clf = SVC(kernel=\"sigmoid\", coef0=0.0, C=1)\n",
    "svm_poly_scores = cross_val_score(svm_poly_clf, X_train, y_train, cv=10, n_jobs = -1, verbose = 10)\n",
    "'Accuracy media tuned: {:0.3f}'.format(np.mean(svm_poly_scores))"
   ]
  },
  {
   "cell_type": "code",
   "execution_count": 18,
   "metadata": {},
   "outputs": [
    {
     "name": "stderr",
     "output_type": "stream",
     "text": [
      "[Parallel(n_jobs=-1)]: Using backend LokyBackend with 8 concurrent workers.\n",
      "[Parallel(n_jobs=-1)]: Batch computation too fast (0.0103s.) Setting batch_size=2.\n",
      "[Parallel(n_jobs=-1)]: Done   3 out of  10 | elapsed:    0.0s remaining:    0.1s\n",
      "[Parallel(n_jobs=-1)]: Done   5 out of  10 | elapsed:    0.0s remaining:    0.0s\n",
      "[Parallel(n_jobs=-1)]: Done   7 out of  10 | elapsed:    0.0s remaining:    0.0s\n",
      "[Parallel(n_jobs=-1)]: Done  10 out of  10 | elapsed:    0.1s finished\n"
     ]
    },
    {
     "data": {
      "text/plain": [
       "'Accuracy media tuned: 1.000'"
      ]
     },
     "execution_count": 18,
     "metadata": {},
     "output_type": "execute_result"
    }
   ],
   "source": [
    "## cross check with linear kernel\n",
    "svm_lnr_clf = SVC(kernel='linear', C=3.60, verbose = 10)\n",
    "svm_lnr_scores = cross_val_score(svm_lnr_clf, X_train, y_train, cv=10, n_jobs = -1, verbose = 10)\n",
    "'Accuracy media tuned: {:0.3f}'.format(np.mean(svm_lnr_scores))"
   ]
  },
  {
   "cell_type": "code",
   "execution_count": null,
   "metadata": {},
   "outputs": [],
   "source": [
    "## tuning tool\n",
    "## for tuning\n",
    "gamma1, gamma2 = 0.032, 'scale'\n",
    "C1, C2 = 2.5, 3.5 \n",
    "hyperparams = (gamma1, C1), (gamma1, C2), (gamma2, C1), (gamma2, C2)\n",
    "train_sizes, train_means, test_means, test_stds, train_stds = [],[],[],[],[]\n",
    "for gamma, C in hyperparams:\n",
    "    rbf_kernel_svm_clf = SVC(kernel=\"rbf\", gamma = gamma, C = C)\n",
    "    train_size, train_scores, test_scores = learning_curve(rbf_kernel_svm_clf,\n",
    "                                                       X=X_train,\n",
    "                                                       y=y_train,\n",
    "                                                       train_sizes=np.linspace(0.1,1.0,10),\n",
    "                                                       cv=10,\n",
    "                                                       n_jobs=-1)\n",
    "    print('fatto {},{}'.format(gamma,C))\n",
    "    train_means.append(np.mean(train_scores, axis=1))\n",
    "    train_stds.append(np.std(train_scores, axis=1))\n",
    "    test_means.append(np.mean(test_scores, axis=1))\n",
    "    test_stds.append(np.std(test_scores, axis=1))\n",
    "    train_sizes.append(train_size)"
   ]
  },
  {
   "cell_type": "code",
   "execution_count": 10,
   "metadata": {},
   "outputs": [
    {
     "data": {
      "image/png": "[encoded data removed]",
      "text/plain": [
       "<Figure size 864x576 with 4 Axes>"
      ]
     },
     "metadata": {
      "needs_background": "light"
     },
     "output_type": "display_data"
    }
   ],
   "source": [
    "## for tuning\n",
    "fig= plt.figure(figsize=(12, 8))\n",
    "for i in range(4):\n",
    "    ax = fig.add_subplot(221+i)\n",
    "    ax.plot(train_sizes[i], train_means[i],\n",
    "         color='blue', marker='o',\n",
    "         markersize=5, label='Training accuracy')\n",
    "    ax.fill_between(train_sizes[i],\n",
    "                 train_means[i] + train_stds[i],\n",
    "                 train_means[i] - train_stds[i],\n",
    "                 alpha=0.20, color='blue')\n",
    "    ax.plot(train_sizes[i], test_means[i],\n",
    "         color='green', linestyle='--',\n",
    "         marker='s', markersize=5,\n",
    "         label='Validation accuracy')\n",
    "    ax.fill_between(train_sizes[i],\n",
    "                 test_means[i] + test_stds[i],\n",
    "                 test_means[i] - test_stds[i],\n",
    "                 alpha=0.20, color='green')\n",
    "    ax.grid()\n",
    "    ax.set_ylim((0.8,1))\n",
    "    ax.set_ylabel('Accuracy')\n",
    "    ax.legend(loc='lower right')\n",
    "    ax.set_title(r\"$\\gamma={}, C={}$\".format(*hyperparams[i]), fontsize=18)"
   ]
  },
  {
   "cell_type": "code",
   "execution_count": 19,
   "metadata": {},
   "outputs": [
    {
     "name": "stderr",
     "output_type": "stream",
     "text": [
      "[Parallel(n_jobs=-1)]: Using backend LokyBackend with 8 concurrent workers.\n",
      "[Parallel(n_jobs=-1)]: Batch computation too fast (0.0092s.) Setting batch_size=2.\n",
      "[Parallel(n_jobs=-1)]: Done   3 out of  10 | elapsed:    0.0s remaining:    0.1s\n",
      "[Parallel(n_jobs=-1)]: Done   5 out of  10 | elapsed:    0.1s remaining:    0.1s\n",
      "[Parallel(n_jobs=-1)]: Done   7 out of  10 | elapsed:    0.1s remaining:    0.0s\n",
      "[Parallel(n_jobs=-1)]: Done  10 out of  10 | elapsed:    0.1s finished\n"
     ]
    },
    {
     "data": {
      "text/plain": [
       "'Accuracy media: 0.991'"
      ]
     },
     "execution_count": 19,
     "metadata": {},
     "output_type": "execute_result"
    }
   ],
   "source": [
    "## test the dataset with the found parameters\n",
    "svm_poly_clf = SVC(kernel=\"poly\", degree=3, coef0=0.0, C=1)\n",
    "svm_poly_score = cross_val_score(svm_poly_clf, X_train, y_train, cv = 10, n_jobs = -1, verbose = 10)\n",
    "'Accuracy media: {:0.3f}'.format(np.mean(svm_poly_score))"
   ]
  },
  {
   "cell_type": "code",
   "execution_count": 20,
   "metadata": {},
   "outputs": [
    {
     "data": {
      "text/plain": [
       "SVC(C=1, kernel='poly')"
      ]
     },
     "execution_count": 20,
     "metadata": {},
     "output_type": "execute_result"
    }
   ],
   "source": [
    "svm_poly_clf.fit(X_train, y_train)"
   ]
  },
  {
   "cell_type": "code",
   "execution_count": 24,
   "metadata": {},
   "outputs": [
    {
     "data": {
      "text/plain": [
       "'Accuracy media tuned: 0.956'"
      ]
     },
     "execution_count": 24,
     "metadata": {},
     "output_type": "execute_result"
    }
   ],
   "source": [
    "expected = y_test\n",
    "predicted = svm_poly_clf.predict(X_test)\n",
    "poly_cnf_matrix = confusion_matrix(expected, predicted)\n",
    "svm_rbf_score_tuned = cross_val_score(svm_poly_clf, X_test, y_test, cv = 10)\n",
    "'Accuracy media tuned: {:0.3f}'.format(np.mean(svm_rbf_score_tuned))"
   ]
  },
  {
   "cell_type": "code",
   "execution_count": 25,
   "metadata": {},
   "outputs": [
    {
     "data": {
      "text/plain": [
       "<AxesSubplot:xlabel='Predicted', ylabel='Actual'>"
      ]
     },
     "execution_count": 25,
     "metadata": {},
     "output_type": "execute_result"
    },
    {
     "data": {
      "image/png": "[encoded data removed]",
      "text/plain": [
       "<Figure size 720x504 with 2 Axes>"
      ]
     },
     "metadata": {
      "needs_background": "light"
     },
     "output_type": "display_data"
    }
   ],
   "source": [
    "data = poly_cnf_matrix\n",
    "df_cm = pd.DataFrame(data, columns=np.unique(y_test), index = np.unique(y_test))\n",
    "df_cm.index.name = 'Actual'\n",
    "df_cm.columns.name = 'Predicted'\n",
    "plt.figure(figsize = (10,7))\n",
    "sn.set(font_scale=1.0)#for label size\n",
    "sn.heatmap(df_cm/np.sum(data), cmap=\"Blues\", annot=True, fmt='.1%', annot_kws={\"size\": 10})# font size"
   ]
  },
  {
   "cell_type": "code",
   "execution_count": 13,
   "metadata": {},
   "outputs": [
    {
     "data": {
      "text/plain": [
       "GridSearchCV(cv=5, estimator=SVC(), n_jobs=-1,\n",
       "             param_grid=[{'C': [0.1, 2.66, 1000], 'gamma': [0.05, 0.09, 0.1],\n",
       "                          'kernel': ['rbf']},\n",
       "                         {'coef0': [1, 10, 50], 'degree': [1, 2, 3],\n",
       "                          'kernel': ['poly']},\n",
       "                         {'C': [2, 3.6, 10], 'kernel': ['linear']}])"
      ]
     },
     "execution_count": 13,
     "metadata": {},
     "output_type": "execute_result"
    }
   ],
   "source": [
    "## parameters tuning\n",
    "param_grid = [\n",
    "    {'kernel': ['rbf'], 'gamma': [.05, .09, .10], 'C': [0.1, 2.66, 1000]},\n",
    "    {'kernel': ['poly'], 'degree': [1, 2, 3], 'coef0': [1, 10, 50]},\n",
    "    {'kernel': ['linear'], 'C' : [2, 3.60, 10]}\n",
    "\n",
    "]\n",
    "\n",
    "svm_clf = SVC()\n",
    "\n",
    "grid_search = GridSearchCV(estimator=svm_clf,\n",
    "                           param_grid = param_grid,\n",
    "                           cv = 5,\n",
    "                           n_jobs = -1\n",
    ")\n",
    "\n",
    "grid_search.fit(X_train, y_train)"
   ]
  },
  {
   "cell_type": "code",
   "execution_count": 14,
   "metadata": {},
   "outputs": [
    {
     "data": {
      "text/plain": [
       "{'coef0': 1, 'degree': 1, 'kernel': 'poly'}"
      ]
     },
     "execution_count": 14,
     "metadata": {},
     "output_type": "execute_result"
    }
   ],
   "source": [
    "grid_search.best_params_"
   ]
  },
  {
   "cell_type": "code",
   "execution_count": 15,
   "metadata": {},
   "outputs": [
    {
     "name": "stdout",
     "output_type": "stream",
     "text": [
      "Best: 0.990909090909091\n"
     ]
    },
    {
     "data": {
      "text/plain": [
       "SVC(coef0=1, degree=1, kernel='poly')"
      ]
     },
     "execution_count": 15,
     "metadata": {},
     "output_type": "execute_result"
    }
   ],
   "source": [
    "print('Best: {}'.format(grid_search.best_score_))\n",
    "grid_search.best_estimator_"
   ]
  },
  {
   "cell_type": "code",
   "execution_count": 36,
   "metadata": {},
   "outputs": [],
   "source": [
    "results = grid_search.cv_results_"
   ]
  },
  {
   "cell_type": "code",
   "execution_count": 37,
   "metadata": {},
   "outputs": [
    {
     "data": {
      "text/html": [
       "<div>\n",
       "<style scoped>\n",
       "    .dataframe tbody tr th:only-of-type {\n",
       "        vertical-align: middle;\n",
       "    }\n",
       "\n",
       "    .dataframe tbody tr th {\n",
       "        vertical-align: top;\n",
       "    }\n",
       "\n",
       "    .dataframe thead th {\n",
       "        text-align: right;\n",
       "    }\n",
       "</style>\n",
       "<table border=\"1\" class=\"dataframe\">\n",
       "  <thead>\n",
       "    <tr style=\"text-align: right;\">\n",
       "      <th></th>\n",
       "      <th>mean_test_score</th>\n",
       "      <th>params</th>\n",
       "    </tr>\n",
       "  </thead>\n",
       "  <tbody>\n",
       "    <tr>\n",
       "      <th>3</th>\n",
       "      <td>0.676364</td>\n",
       "      <td>{'C': 2.66, 'gamma': 0.05, 'kernel': 'rbf'}</td>\n",
       "    </tr>\n",
       "    <tr>\n",
       "      <th>4</th>\n",
       "      <td>0.676364</td>\n",
       "      <td>{'C': 2.66, 'gamma': 0.09, 'kernel': 'rbf'}</td>\n",
       "    </tr>\n",
       "    <tr>\n",
       "      <th>5</th>\n",
       "      <td>0.672727</td>\n",
       "      <td>{'C': 2.66, 'gamma': 0.1, 'kernel': 'rbf'}</td>\n",
       "    </tr>\n",
       "    <tr>\n",
       "      <th>7</th>\n",
       "      <td>0.660000</td>\n",
       "      <td>{'C': 1000, 'gamma': 0.09, 'kernel': 'rbf'}</td>\n",
       "    </tr>\n",
       "    <tr>\n",
       "      <th>8</th>\n",
       "      <td>0.660000</td>\n",
       "      <td>{'C': 1000, 'gamma': 0.1, 'kernel': 'rbf'}</td>\n",
       "    </tr>\n",
       "    <tr>\n",
       "      <th>6</th>\n",
       "      <td>0.652727</td>\n",
       "      <td>{'C': 1000, 'gamma': 0.05, 'kernel': 'rbf'}</td>\n",
       "    </tr>\n",
       "    <tr>\n",
       "      <th>11</th>\n",
       "      <td>0.652727</td>\n",
       "      <td>{'coef0': 1, 'degree': 3, 'kernel': 'poly'}</td>\n",
       "    </tr>\n",
       "    <tr>\n",
       "      <th>10</th>\n",
       "      <td>0.647273</td>\n",
       "      <td>{'coef0': 1, 'degree': 2, 'kernel': 'poly'}</td>\n",
       "    </tr>\n",
       "    <tr>\n",
       "      <th>14</th>\n",
       "      <td>0.638182</td>\n",
       "      <td>{'coef0': 10, 'degree': 3, 'kernel': 'poly'}</td>\n",
       "    </tr>\n",
       "    <tr>\n",
       "      <th>17</th>\n",
       "      <td>0.632727</td>\n",
       "      <td>{'coef0': 50, 'degree': 3, 'kernel': 'poly'}</td>\n",
       "    </tr>\n",
       "    <tr>\n",
       "      <th>13</th>\n",
       "      <td>0.623636</td>\n",
       "      <td>{'coef0': 10, 'degree': 2, 'kernel': 'poly'}</td>\n",
       "    </tr>\n",
       "    <tr>\n",
       "      <th>16</th>\n",
       "      <td>0.620000</td>\n",
       "      <td>{'coef0': 50, 'degree': 2, 'kernel': 'poly'}</td>\n",
       "    </tr>\n",
       "    <tr>\n",
       "      <th>15</th>\n",
       "      <td>0.556364</td>\n",
       "      <td>{'coef0': 50, 'degree': 1, 'kernel': 'poly'}</td>\n",
       "    </tr>\n",
       "    <tr>\n",
       "      <th>9</th>\n",
       "      <td>0.556364</td>\n",
       "      <td>{'coef0': 1, 'degree': 1, 'kernel': 'poly'}</td>\n",
       "    </tr>\n",
       "    <tr>\n",
       "      <th>12</th>\n",
       "      <td>0.556364</td>\n",
       "      <td>{'coef0': 10, 'degree': 1, 'kernel': 'poly'}</td>\n",
       "    </tr>\n",
       "    <tr>\n",
       "      <th>2</th>\n",
       "      <td>0.485455</td>\n",
       "      <td>{'C': 0.1, 'gamma': 0.1, 'kernel': 'rbf'}</td>\n",
       "    </tr>\n",
       "    <tr>\n",
       "      <th>1</th>\n",
       "      <td>0.485455</td>\n",
       "      <td>{'C': 0.1, 'gamma': 0.09, 'kernel': 'rbf'}</td>\n",
       "    </tr>\n",
       "    <tr>\n",
       "      <th>0</th>\n",
       "      <td>0.450909</td>\n",
       "      <td>{'C': 0.1, 'gamma': 0.05, 'kernel': 'rbf'}</td>\n",
       "    </tr>\n",
       "  </tbody>\n",
       "</table>\n",
       "</div>"
      ],
      "text/plain": [
       "    mean_test_score                                        params\n",
       "3          0.676364   {'C': 2.66, 'gamma': 0.05, 'kernel': 'rbf'}\n",
       "4          0.676364   {'C': 2.66, 'gamma': 0.09, 'kernel': 'rbf'}\n",
       "5          0.672727    {'C': 2.66, 'gamma': 0.1, 'kernel': 'rbf'}\n",
       "7          0.660000   {'C': 1000, 'gamma': 0.09, 'kernel': 'rbf'}\n",
       "8          0.660000    {'C': 1000, 'gamma': 0.1, 'kernel': 'rbf'}\n",
       "6          0.652727   {'C': 1000, 'gamma': 0.05, 'kernel': 'rbf'}\n",
       "11         0.652727   {'coef0': 1, 'degree': 3, 'kernel': 'poly'}\n",
       "10         0.647273   {'coef0': 1, 'degree': 2, 'kernel': 'poly'}\n",
       "14         0.638182  {'coef0': 10, 'degree': 3, 'kernel': 'poly'}\n",
       "17         0.632727  {'coef0': 50, 'degree': 3, 'kernel': 'poly'}\n",
       "13         0.623636  {'coef0': 10, 'degree': 2, 'kernel': 'poly'}\n",
       "16         0.620000  {'coef0': 50, 'degree': 2, 'kernel': 'poly'}\n",
       "15         0.556364  {'coef0': 50, 'degree': 1, 'kernel': 'poly'}\n",
       "9          0.556364   {'coef0': 1, 'degree': 1, 'kernel': 'poly'}\n",
       "12         0.556364  {'coef0': 10, 'degree': 1, 'kernel': 'poly'}\n",
       "2          0.485455     {'C': 0.1, 'gamma': 0.1, 'kernel': 'rbf'}\n",
       "1          0.485455    {'C': 0.1, 'gamma': 0.09, 'kernel': 'rbf'}\n",
       "0          0.450909    {'C': 0.1, 'gamma': 0.05, 'kernel': 'rbf'}"
      ]
     },
     "execution_count": 37,
     "metadata": {},
     "output_type": "execute_result"
    }
   ],
   "source": [
    "results = pd.DataFrame(results)[['mean_test_score','params']]\n",
    "results.sort_values(by='mean_test_score',ascending=False)"
   ]
  },
  {
   "cell_type": "code",
   "execution_count": null,
   "metadata": {},
   "outputs": [],
   "source": []
  }
 ],
 "metadata": {
  "kernelspec": {
   "display_name": "Python 3",
   "language": "python",
   "name": "python3"
  },
  "language_info": {
   "codemirror_mode": {
    "name": "ipython",
    "version": 3
   },
   "file_extension": ".py",
   "mimetype": "text/x-python",
   "name": "python",
   "nbconvert_exporter": "python",
   "pygments_lexer": "ipython3",
   "version": "3.8.6"
  }
 },
 "nbformat": 4,
 "nbformat_minor": 4
}
