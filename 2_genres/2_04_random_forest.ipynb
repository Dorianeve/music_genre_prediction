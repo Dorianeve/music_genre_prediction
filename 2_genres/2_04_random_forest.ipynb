{
 "cells": [
  {
   "cell_type": "code",
   "execution_count": 1,
   "metadata": {},
   "outputs": [
    {
     "data": {
      "text/html": [
       "        <script type=\"text/javascript\">\n",
       "        window.PlotlyConfig = {MathJaxConfig: 'local'};\n",
       "        if (window.MathJax) {MathJax.Hub.Config({SVG: {font: \"STIX-Web\"}});}\n",
       "        if (typeof require !== 'undefined') {\n",
       "        require.undef(\"plotly\");\n",
       "        requirejs.config({\n",
       "            paths: {\n",
       "                'plotly': ['https://cdn.plot.ly/plotly-latest.min']\n",
       "            }\n",
       "        });\n",
       "        require(['plotly'], function(Plotly) {\n",
       "            window._Plotly = Plotly;\n",
       "        });\n",
       "        }\n",
       "        </script>\n",
       "        "
      ]
     },
     "metadata": {},
     "output_type": "display_data"
    }
   ],
   "source": [
    "## # Load libraries\n",
    "from pandas import set_option\n",
    "from pandas.plotting import scatter_matrix\n",
    "from sklearn.preprocessing import StandardScaler\n",
    "from sklearn.preprocessing import MinMaxScaler\n",
    "from sklearn.preprocessing import RobustScaler\n",
    "from sklearn.model_selection import train_test_split\n",
    "from sklearn.model_selection import KFold\n",
    "from sklearn.model_selection import StratifiedKFold\n",
    "from sklearn.model_selection import cross_val_score\n",
    "from sklearn.model_selection import cross_val_predict, KFold, StratifiedKFold, RepeatedKFold, ShuffleSplit, StratifiedShuffleSplit, validation_curve, cross_validate\n",
    "from sklearn.model_selection import learning_curve\n",
    "from sklearn.model_selection import GridSearchCV\n",
    "from sklearn.metrics import classification_report\n",
    "from sklearn.metrics import confusion_matrix\n",
    "from sklearn.metrics import accuracy_score\n",
    "from sklearn.pipeline import Pipeline\n",
    "from sklearn.tree import DecisionTreeClassifier\n",
    "from sklearn.neighbors import KNeighborsClassifier\n",
    "from sklearn.svm import SVC\n",
    "from sklearn.ensemble import AdaBoostClassifier\n",
    "from sklearn.ensemble import GradientBoostingClassifier\n",
    "from sklearn.ensemble import RandomForestClassifier\n",
    "from sklearn.ensemble import ExtraTreesClassifier\n",
    "from sklearn import tree\n",
    "from sklearn.ensemble import VotingClassifier, BaggingClassifier\n",
    "\n",
    "\n",
    "\n",
    "import sys\n",
    "import os\n",
    "import pandas as pd\n",
    "import numpy as np\n",
    "\n",
    "import matplotlib.pyplot as plt\n",
    "import seaborn as sns\n",
    "from IPython.display import display\n",
    "%matplotlib inline\n",
    "\n",
    "import plotly.offline as py\n",
    "import plotly.graph_objs as go\n",
    "import plotly.tools as tls\n",
    "py.init_notebook_mode(connected=True)\n",
    "\n",
    "import warnings\n",
    "warnings.filterwarnings('ignore')\n",
    "\n",
    "from sklearn.metrics import confusion_matrix\n",
    "import pandas as pd\n",
    "import seaborn as sn\n",
    "import matplotlib.pyplot as plt\n",
    "%matplotlib inline\n",
    "import numpy as np"
   ]
  },
  {
   "cell_type": "code",
   "execution_count": 2,
   "metadata": {},
   "outputs": [],
   "source": [
    "# retrieve variables\n",
    "%store -r raw_data2\n",
    "%store -r raw_data_uncorr2"
   ]
  },
  {
   "cell_type": "code",
   "execution_count": 4,
   "metadata": {},
   "outputs": [],
   "source": [
    "## SVC with complete data\n",
    "## devide train test tentative with stratification to keep the distribution\n",
    "## raw_data parames [28] / raw_data_uncorr [24]\n",
    "X = raw_data_uncorr2.iloc[:,:24]\n",
    "Y = raw_data_uncorr2.iloc[:,24]\n",
    "\n",
    "X_train, X_test, y_train, y_test = train_test_split(X,Y,\n",
    "                                                   test_size=0.45,\n",
    "                                                   stratify=Y)"
   ]
  },
  {
   "cell_type": "code",
   "execution_count": 5,
   "metadata": {},
   "outputs": [
    {
     "data": {
      "text/plain": [
       "'Accuracy media: 0.973'"
      ]
     },
     "execution_count": 5,
     "metadata": {},
     "output_type": "execute_result"
    }
   ],
   "source": [
    "rnf_clf = RandomForestClassifier(n_estimators=150, n_jobs=-1, max_features='auto')\n",
    "rnf_score = cross_val_score(rnf_clf, X_train, y_train, cv=20, n_jobs=-1)\n",
    "'Accuracy media: {:0.3f}'.format(np.mean(rnf_score))"
   ]
  },
  {
   "cell_type": "code",
   "execution_count": 6,
   "metadata": {},
   "outputs": [
    {
     "data": {
      "text/plain": [
       "'Accuracy media: 0.963'"
      ]
     },
     "execution_count": 6,
     "metadata": {},
     "output_type": "execute_result"
    }
   ],
   "source": [
    "et_clf = ExtraTreesClassifier(n_estimators=100, n_jobs=-1, max_features=8)\n",
    "et_score = cross_val_score(et_clf, X_train, y_train, cv=20,n_jobs=-1)\n",
    "'Accuracy media: {:0.3f}'.format(np.mean(et_score))"
   ]
  },
  {
   "cell_type": "code",
   "execution_count": 8,
   "metadata": {},
   "outputs": [
    {
     "data": {
      "text/plain": [
       "[[Text(0, 0, 'RF'), Text(0, 1, 'ET')]]"
      ]
     },
     "execution_count": 8,
     "metadata": {},
     "output_type": "execute_result"
    },
    {
     "data": {
      "image/png": "[encoded data removed]",
      "text/plain": [
       "<Figure size 864x288 with 1 Axes>"
      ]
     },
     "metadata": {
      "needs_background": "light"
     },
     "output_type": "display_data"
    }
   ],
   "source": [
    "fig = plt.figure(figsize=(12,4))\n",
    "ax = fig.add_subplot()\n",
    "sns.boxplot(ax = ax,\n",
    "            data = [rnf_score, et_score],\n",
    "            palette = 'vlag',\n",
    "            orient = 'h'\n",
    "           )\n",
    "ax.set(yticklabels=['RF','ET'])"
   ]
  },
  {
   "cell_type": "code",
   "execution_count": 9,
   "metadata": {},
   "outputs": [
    {
     "data": {
      "text/plain": [
       "ExtraTreesClassifier(max_features=8, n_jobs=-1)"
      ]
     },
     "execution_count": 9,
     "metadata": {},
     "output_type": "execute_result"
    }
   ],
   "source": [
    "rnf_clf.fit(X_train,y_train)\n",
    "et_clf.fit(X_train,y_train)"
   ]
  },
  {
   "cell_type": "code",
   "execution_count": 10,
   "metadata": {},
   "outputs": [
    {
     "data": {
      "text/plain": [
       "[('spectral_bandwidth', 0.20296709895174792),\n",
       " ('rmse', 0.13498585352707695),\n",
       " ('rolloff', 0.12845602096668482),\n",
       " ('mfcc1', 0.10642636168840766),\n",
       " ('chroma_stft', 0.09760765780529053),\n",
       " ('mfcc7', 0.0818140839446382),\n",
       " ('zero_crossing_rate', 0.05540714256687376),\n",
       " ('mfcc3', 0.04581239334600495),\n",
       " ('mfcc9', 0.0436025227082013),\n",
       " ('mfcc5', 0.02147826264333095)]"
      ]
     },
     "execution_count": 10,
     "metadata": {},
     "output_type": "execute_result"
    }
   ],
   "source": [
    "named_feat_importance = dict(zip(X_train.columns, rnf_clf.feature_importances_))\n",
    "sorted(named_feat_importance.items(), key=lambda x:x[1], reverse=True)[:10]"
   ]
  },
  {
   "cell_type": "code",
   "execution_count": 11,
   "metadata": {},
   "outputs": [
    {
     "data": {
      "text/plain": [
       "'Accuracy media tuned: 1.000'"
      ]
     },
     "execution_count": 11,
     "metadata": {},
     "output_type": "execute_result"
    }
   ],
   "source": [
    "expected = y_test\n",
    "predicted = rnf_clf.predict(X_test)\n",
    "rnf_cnf_matrix = confusion_matrix(expected, predicted)\n",
    "rnf_score_tuned = cross_val_score(rnf_clf, X_test, y_test, cv = 20)\n",
    "'Accuracy media tuned: {:0.3f}'.format(np.mean(rnf_score_tuned))"
   ]
  },
  {
   "cell_type": "code",
   "execution_count": 12,
   "metadata": {},
   "outputs": [
    {
     "data": {
      "text/plain": [
       "<AxesSubplot:xlabel='Predicted', ylabel='Actual'>"
      ]
     },
     "execution_count": 12,
     "metadata": {},
     "output_type": "execute_result"
    },
    {
     "data": {
      "image/png": "[encoded data removed]",
      "text/plain": [
       "<Figure size 720x504 with 2 Axes>"
      ]
     },
     "metadata": {
      "needs_background": "light"
     },
     "output_type": "display_data"
    }
   ],
   "source": [
    "data = rnf_cnf_matrix\n",
    "df_cm = pd.DataFrame(data, columns=np.unique(y_test), index = np.unique(y_test))\n",
    "df_cm.index.name = 'Actual'\n",
    "df_cm.columns.name = 'Predicted'\n",
    "plt.figure(figsize = (10,7))\n",
    "sn.set(font_scale=1.0)#for label size\n",
    "sn.heatmap(df_cm/np.sum(data), cmap=\"mako\", annot=True, fmt='.1%', annot_kws={\"size\": 10})# font size"
   ]
  },
  {
   "cell_type": "code",
   "execution_count": 13,
   "metadata": {},
   "outputs": [
    {
     "data": {
      "text/plain": [
       "'Accuracy media tuned: 1.000'"
      ]
     },
     "execution_count": 13,
     "metadata": {},
     "output_type": "execute_result"
    }
   ],
   "source": [
    "expected = y_test\n",
    "predicted = et_clf.predict(X_test)\n",
    "et_cnf_matrix = confusion_matrix(expected, predicted)\n",
    "et_score_tuned = cross_val_score(et_clf, X_test, y_test, cv = 20)\n",
    "'Accuracy media tuned: {:0.3f}'.format(np.mean(et_score_tuned))"
   ]
  },
  {
   "cell_type": "code",
   "execution_count": 14,
   "metadata": {},
   "outputs": [
    {
     "data": {
      "text/plain": [
       "<AxesSubplot:xlabel='Predicted', ylabel='Actual'>"
      ]
     },
     "execution_count": 14,
     "metadata": {},
     "output_type": "execute_result"
    },
    {
     "data": {
      "image/png": "[encoded data removed]",
      "text/plain": [
       "<Figure size 720x504 with 2 Axes>"
      ]
     },
     "metadata": {},
     "output_type": "display_data"
    }
   ],
   "source": [
    "data = et_cnf_matrix\n",
    "df_cm = pd.DataFrame(data, columns=np.unique(y_test), index = np.unique(y_test))\n",
    "df_cm.index.name = 'Actual'\n",
    "df_cm.columns.name = 'Predicted'\n",
    "plt.figure(figsize = (10,7))\n",
    "sn.set(font_scale=1.0)#for label size\n",
    "sn.heatmap(df_cm/np.sum(data), cmap=\"crest\", annot=True, fmt='.1%', annot_kws={\"size\": 10})# font size"
   ]
  },
  {
   "cell_type": "code",
   "execution_count": 15,
   "metadata": {},
   "outputs": [
    {
     "data": {
      "text/plain": [
       "'Accuracy media tuned: 0.972'"
      ]
     },
     "execution_count": 15,
     "metadata": {},
     "output_type": "execute_result"
    }
   ],
   "source": [
    "ada_clf = AdaBoostClassifier(\n",
    "    ExtraTreesClassifier(n_estimators=150, n_jobs=-1, max_features='auto'),\n",
    "    algorithm='SAMME.R',\n",
    "    learning_rate=0.5\n",
    ")\n",
    "ada_score = cross_val_score(ada_clf, X_train, y_train, cv=20, n_jobs=-1)\n",
    "'Accuracy media tuned: {:0.3f}'.format(np.mean(ada_score))"
   ]
  },
  {
   "cell_type": "code",
   "execution_count": 17,
   "metadata": {},
   "outputs": [
    {
     "data": {
      "text/plain": [
       "[[Text(0, 0, 'RF'), Text(0, 1, 'ET'), Text(0, 2, 'ADA')]]"
      ]
     },
     "execution_count": 17,
     "metadata": {},
     "output_type": "execute_result"
    },
    {
     "data": {
      "image/png": "[encoded data removed]",
      "text/plain": [
       "<Figure size 864x288 with 1 Axes>"
      ]
     },
     "metadata": {},
     "output_type": "display_data"
    }
   ],
   "source": [
    "fig = plt.figure(figsize=(12,4))\n",
    "ax = fig.add_subplot()\n",
    "sns.boxplot(ax = ax,\n",
    "            data = [rnf_score, et_score, ada_score],\n",
    "            palette = 'vlag',\n",
    "            orient = 'h'\n",
    "           )\n",
    "ax.set(yticklabels=['RF','ET','ADA'])"
   ]
  },
  {
   "cell_type": "code",
   "execution_count": 18,
   "metadata": {},
   "outputs": [
    {
     "data": {
      "text/plain": [
       "AdaBoostClassifier(base_estimator=ExtraTreesClassifier(n_estimators=150,\n",
       "                                                       n_jobs=-1),\n",
       "                   learning_rate=0.5)"
      ]
     },
     "execution_count": 18,
     "metadata": {},
     "output_type": "execute_result"
    }
   ],
   "source": [
    "ada_clf.fit(X_train, y_train)"
   ]
  },
  {
   "cell_type": "code",
   "execution_count": 19,
   "metadata": {},
   "outputs": [
    {
     "data": {
      "text/plain": [
       "'Accuracy media tuned: 0.990'"
      ]
     },
     "execution_count": 19,
     "metadata": {},
     "output_type": "execute_result"
    }
   ],
   "source": [
    "expected = y_test\n",
    "predicted = ada_clf.predict(X_test)\n",
    "ada_cnf_matrix = confusion_matrix(expected, predicted)\n",
    "ada_score_tuned = cross_val_score(ada_clf, X_test, y_test, cv = 20)\n",
    "'Accuracy media tuned: {:0.3f}'.format(np.mean(ada_score_tuned))"
   ]
  },
  {
   "cell_type": "code",
   "execution_count": 20,
   "metadata": {},
   "outputs": [
    {
     "data": {
      "text/plain": [
       "<AxesSubplot:xlabel='Predicted', ylabel='Actual'>"
      ]
     },
     "execution_count": 20,
     "metadata": {},
     "output_type": "execute_result"
    },
    {
     "data": {
      "image/png": "[encoded data removed]",
      "text/plain": [
       "<Figure size 720x504 with 2 Axes>"
      ]
     },
     "metadata": {},
     "output_type": "display_data"
    }
   ],
   "source": [
    "data = ada_cnf_matrix\n",
    "df_cm = pd.DataFrame(data, columns=np.unique(y_test), index = np.unique(y_test))\n",
    "df_cm.index.name = 'Actual'\n",
    "df_cm.columns.name = 'Predicted'\n",
    "plt.figure(figsize = (10,7))\n",
    "sn.set(font_scale=1.0)#for label size\n",
    "sn.heatmap(df_cm/np.sum(data), cmap=\"rocket_r\", annot=True, fmt='.1%', annot_kws={\"size\": 10})# font size"
   ]
  },
  {
   "cell_type": "code",
   "execution_count": 21,
   "metadata": {},
   "outputs": [],
   "source": [
    "param_grid = [\n",
    "    {'max_features': [8,10,'auto'],\n",
    "     'max_depth':[2,5,8,None],\n",
    "     'n_estimators':[10,20,50,100,150]\n",
    "    }\n",
    "]"
   ]
  },
  {
   "cell_type": "code",
   "execution_count": 22,
   "metadata": {},
   "outputs": [
    {
     "data": {
      "text/plain": [
       "GridSearchCV(cv=3,\n",
       "             estimator=RandomForestClassifier(n_estimators=150, n_jobs=-1),\n",
       "             n_jobs=-1,\n",
       "             param_grid=[{'max_depth': [2, 5, 8, None],\n",
       "                          'max_features': [8, 10, 'auto'],\n",
       "                          'n_estimators': [10, 20, 50, 100, 150]}])"
      ]
     },
     "execution_count": 22,
     "metadata": {},
     "output_type": "execute_result"
    }
   ],
   "source": [
    "grid_search = GridSearchCV(estimator=rnf_clf,\n",
    "                           param_grid = param_grid,\n",
    "                           cv = 3,\n",
    "                           n_jobs=-1\n",
    ")\n",
    "\n",
    "grid_search.fit(X_train, y_train)\n"
   ]
  },
  {
   "cell_type": "code",
   "execution_count": 23,
   "metadata": {},
   "outputs": [
    {
     "data": {
      "text/plain": [
       "{'max_depth': 8, 'max_features': 'auto', 'n_estimators': 10}"
      ]
     },
     "execution_count": 23,
     "metadata": {},
     "output_type": "execute_result"
    }
   ],
   "source": [
    "grid_search.best_params_"
   ]
  },
  {
   "cell_type": "code",
   "execution_count": 24,
   "metadata": {},
   "outputs": [
    {
     "data": {
      "text/plain": [
       "0.981981981981982"
      ]
     },
     "execution_count": 24,
     "metadata": {},
     "output_type": "execute_result"
    }
   ],
   "source": [
    "grid_search.best_score_"
   ]
  },
  {
   "cell_type": "code",
   "execution_count": 25,
   "metadata": {},
   "outputs": [
    {
     "name": "stdout",
     "output_type": "stream",
     "text": [
      "Best: 0.981981981981982\n"
     ]
    },
    {
     "data": {
      "text/plain": [
       "RandomForestClassifier(max_depth=8, n_estimators=10, n_jobs=-1)"
      ]
     },
     "execution_count": 25,
     "metadata": {},
     "output_type": "execute_result"
    }
   ],
   "source": [
    "print('Best: {}'.format(grid_search.best_score_))\n",
    "grid_search.best_estimator_"
   ]
  },
  {
   "cell_type": "code",
   "execution_count": 26,
   "metadata": {},
   "outputs": [],
   "source": [
    "results = grid_search.cv_results_"
   ]
  },
  {
   "cell_type": "code",
   "execution_count": 27,
   "metadata": {},
   "outputs": [
    {
     "data": {
      "text/html": [
       "<div>\n",
       "<style scoped>\n",
       "    .dataframe tbody tr th:only-of-type {\n",
       "        vertical-align: middle;\n",
       "    }\n",
       "\n",
       "    .dataframe tbody tr th {\n",
       "        vertical-align: top;\n",
       "    }\n",
       "\n",
       "    .dataframe thead th {\n",
       "        text-align: right;\n",
       "    }\n",
       "</style>\n",
       "<table border=\"1\" class=\"dataframe\">\n",
       "  <thead>\n",
       "    <tr style=\"text-align: right;\">\n",
       "      <th></th>\n",
       "      <th>mean_test_score</th>\n",
       "      <th>params</th>\n",
       "    </tr>\n",
       "  </thead>\n",
       "  <tbody>\n",
       "    <tr>\n",
       "      <th>57</th>\n",
       "      <td>0.981982</td>\n",
       "      <td>{'max_depth': None, 'max_features': 'auto', 'n...</td>\n",
       "    </tr>\n",
       "    <tr>\n",
       "      <th>40</th>\n",
       "      <td>0.981982</td>\n",
       "      <td>{'max_depth': 8, 'max_features': 'auto', 'n_es...</td>\n",
       "    </tr>\n",
       "    <tr>\n",
       "      <th>41</th>\n",
       "      <td>0.972973</td>\n",
       "      <td>{'max_depth': 8, 'max_features': 'auto', 'n_es...</td>\n",
       "    </tr>\n",
       "    <tr>\n",
       "      <th>55</th>\n",
       "      <td>0.972973</td>\n",
       "      <td>{'max_depth': None, 'max_features': 'auto', 'n...</td>\n",
       "    </tr>\n",
       "    <tr>\n",
       "      <th>26</th>\n",
       "      <td>0.972973</td>\n",
       "      <td>{'max_depth': 5, 'max_features': 'auto', 'n_es...</td>\n",
       "    </tr>\n",
       "    <tr>\n",
       "      <th>51</th>\n",
       "      <td>0.972973</td>\n",
       "      <td>{'max_depth': None, 'max_features': 10, 'n_est...</td>\n",
       "    </tr>\n",
       "    <tr>\n",
       "      <th>59</th>\n",
       "      <td>0.972723</td>\n",
       "      <td>{'max_depth': None, 'max_features': 'auto', 'n...</td>\n",
       "    </tr>\n",
       "    <tr>\n",
       "      <th>56</th>\n",
       "      <td>0.972723</td>\n",
       "      <td>{'max_depth': None, 'max_features': 'auto', 'n...</td>\n",
       "    </tr>\n",
       "    <tr>\n",
       "      <th>32</th>\n",
       "      <td>0.963964</td>\n",
       "      <td>{'max_depth': 8, 'max_features': 8, 'n_estimat...</td>\n",
       "    </tr>\n",
       "    <tr>\n",
       "      <th>33</th>\n",
       "      <td>0.963964</td>\n",
       "      <td>{'max_depth': 8, 'max_features': 8, 'n_estimat...</td>\n",
       "    </tr>\n",
       "    <tr>\n",
       "      <th>34</th>\n",
       "      <td>0.963964</td>\n",
       "      <td>{'max_depth': 8, 'max_features': 8, 'n_estimat...</td>\n",
       "    </tr>\n",
       "    <tr>\n",
       "      <th>35</th>\n",
       "      <td>0.963964</td>\n",
       "      <td>{'max_depth': 8, 'max_features': 10, 'n_estima...</td>\n",
       "    </tr>\n",
       "    <tr>\n",
       "      <th>36</th>\n",
       "      <td>0.963964</td>\n",
       "      <td>{'max_depth': 8, 'max_features': 10, 'n_estima...</td>\n",
       "    </tr>\n",
       "    <tr>\n",
       "      <th>37</th>\n",
       "      <td>0.963964</td>\n",
       "      <td>{'max_depth': 8, 'max_features': 10, 'n_estima...</td>\n",
       "    </tr>\n",
       "    <tr>\n",
       "      <th>38</th>\n",
       "      <td>0.963964</td>\n",
       "      <td>{'max_depth': 8, 'max_features': 10, 'n_estima...</td>\n",
       "    </tr>\n",
       "    <tr>\n",
       "      <th>39</th>\n",
       "      <td>0.963964</td>\n",
       "      <td>{'max_depth': 8, 'max_features': 10, 'n_estima...</td>\n",
       "    </tr>\n",
       "    <tr>\n",
       "      <th>43</th>\n",
       "      <td>0.963964</td>\n",
       "      <td>{'max_depth': 8, 'max_features': 'auto', 'n_es...</td>\n",
       "    </tr>\n",
       "    <tr>\n",
       "      <th>42</th>\n",
       "      <td>0.963964</td>\n",
       "      <td>{'max_depth': 8, 'max_features': 'auto', 'n_es...</td>\n",
       "    </tr>\n",
       "    <tr>\n",
       "      <th>29</th>\n",
       "      <td>0.963964</td>\n",
       "      <td>{'max_depth': 5, 'max_features': 'auto', 'n_es...</td>\n",
       "    </tr>\n",
       "    <tr>\n",
       "      <th>45</th>\n",
       "      <td>0.963964</td>\n",
       "      <td>{'max_depth': None, 'max_features': 8, 'n_esti...</td>\n",
       "    </tr>\n",
       "    <tr>\n",
       "      <th>46</th>\n",
       "      <td>0.963964</td>\n",
       "      <td>{'max_depth': None, 'max_features': 8, 'n_esti...</td>\n",
       "    </tr>\n",
       "    <tr>\n",
       "      <th>47</th>\n",
       "      <td>0.963964</td>\n",
       "      <td>{'max_depth': None, 'max_features': 8, 'n_esti...</td>\n",
       "    </tr>\n",
       "    <tr>\n",
       "      <th>49</th>\n",
       "      <td>0.963964</td>\n",
       "      <td>{'max_depth': None, 'max_features': 8, 'n_esti...</td>\n",
       "    </tr>\n",
       "    <tr>\n",
       "      <th>50</th>\n",
       "      <td>0.963964</td>\n",
       "      <td>{'max_depth': None, 'max_features': 10, 'n_est...</td>\n",
       "    </tr>\n",
       "    <tr>\n",
       "      <th>52</th>\n",
       "      <td>0.963964</td>\n",
       "      <td>{'max_depth': None, 'max_features': 10, 'n_est...</td>\n",
       "    </tr>\n",
       "    <tr>\n",
       "      <th>53</th>\n",
       "      <td>0.963964</td>\n",
       "      <td>{'max_depth': None, 'max_features': 10, 'n_est...</td>\n",
       "    </tr>\n",
       "    <tr>\n",
       "      <th>54</th>\n",
       "      <td>0.963964</td>\n",
       "      <td>{'max_depth': None, 'max_features': 10, 'n_est...</td>\n",
       "    </tr>\n",
       "    <tr>\n",
       "      <th>1</th>\n",
       "      <td>0.963964</td>\n",
       "      <td>{'max_depth': 2, 'max_features': 8, 'n_estimat...</td>\n",
       "    </tr>\n",
       "    <tr>\n",
       "      <th>30</th>\n",
       "      <td>0.963964</td>\n",
       "      <td>{'max_depth': 8, 'max_features': 8, 'n_estimat...</td>\n",
       "    </tr>\n",
       "    <tr>\n",
       "      <th>28</th>\n",
       "      <td>0.963964</td>\n",
       "      <td>{'max_depth': 5, 'max_features': 'auto', 'n_es...</td>\n",
       "    </tr>\n",
       "    <tr>\n",
       "      <th>7</th>\n",
       "      <td>0.963964</td>\n",
       "      <td>{'max_depth': 2, 'max_features': 10, 'n_estima...</td>\n",
       "    </tr>\n",
       "    <tr>\n",
       "      <th>9</th>\n",
       "      <td>0.963964</td>\n",
       "      <td>{'max_depth': 2, 'max_features': 10, 'n_estima...</td>\n",
       "    </tr>\n",
       "    <tr>\n",
       "      <th>10</th>\n",
       "      <td>0.963964</td>\n",
       "      <td>{'max_depth': 2, 'max_features': 'auto', 'n_es...</td>\n",
       "    </tr>\n",
       "    <tr>\n",
       "      <th>6</th>\n",
       "      <td>0.963964</td>\n",
       "      <td>{'max_depth': 2, 'max_features': 10, 'n_estima...</td>\n",
       "    </tr>\n",
       "    <tr>\n",
       "      <th>5</th>\n",
       "      <td>0.963964</td>\n",
       "      <td>{'max_depth': 2, 'max_features': 10, 'n_estima...</td>\n",
       "    </tr>\n",
       "    <tr>\n",
       "      <th>4</th>\n",
       "      <td>0.963964</td>\n",
       "      <td>{'max_depth': 2, 'max_features': 8, 'n_estimat...</td>\n",
       "    </tr>\n",
       "    <tr>\n",
       "      <th>3</th>\n",
       "      <td>0.963964</td>\n",
       "      <td>{'max_depth': 2, 'max_features': 8, 'n_estimat...</td>\n",
       "    </tr>\n",
       "    <tr>\n",
       "      <th>14</th>\n",
       "      <td>0.963964</td>\n",
       "      <td>{'max_depth': 2, 'max_features': 'auto', 'n_es...</td>\n",
       "    </tr>\n",
       "    <tr>\n",
       "      <th>2</th>\n",
       "      <td>0.963964</td>\n",
       "      <td>{'max_depth': 2, 'max_features': 8, 'n_estimat...</td>\n",
       "    </tr>\n",
       "    <tr>\n",
       "      <th>16</th>\n",
       "      <td>0.963964</td>\n",
       "      <td>{'max_depth': 5, 'max_features': 8, 'n_estimat...</td>\n",
       "    </tr>\n",
       "    <tr>\n",
       "      <th>17</th>\n",
       "      <td>0.963964</td>\n",
       "      <td>{'max_depth': 5, 'max_features': 8, 'n_estimat...</td>\n",
       "    </tr>\n",
       "    <tr>\n",
       "      <th>18</th>\n",
       "      <td>0.963964</td>\n",
       "      <td>{'max_depth': 5, 'max_features': 8, 'n_estimat...</td>\n",
       "    </tr>\n",
       "    <tr>\n",
       "      <th>19</th>\n",
       "      <td>0.963964</td>\n",
       "      <td>{'max_depth': 5, 'max_features': 8, 'n_estimat...</td>\n",
       "    </tr>\n",
       "    <tr>\n",
       "      <th>20</th>\n",
       "      <td>0.963964</td>\n",
       "      <td>{'max_depth': 5, 'max_features': 10, 'n_estima...</td>\n",
       "    </tr>\n",
       "    <tr>\n",
       "      <th>21</th>\n",
       "      <td>0.963964</td>\n",
       "      <td>{'max_depth': 5, 'max_features': 10, 'n_estima...</td>\n",
       "    </tr>\n",
       "    <tr>\n",
       "      <th>22</th>\n",
       "      <td>0.963964</td>\n",
       "      <td>{'max_depth': 5, 'max_features': 10, 'n_estima...</td>\n",
       "    </tr>\n",
       "    <tr>\n",
       "      <th>23</th>\n",
       "      <td>0.963964</td>\n",
       "      <td>{'max_depth': 5, 'max_features': 10, 'n_estima...</td>\n",
       "    </tr>\n",
       "    <tr>\n",
       "      <th>24</th>\n",
       "      <td>0.963964</td>\n",
       "      <td>{'max_depth': 5, 'max_features': 10, 'n_estima...</td>\n",
       "    </tr>\n",
       "    <tr>\n",
       "      <th>8</th>\n",
       "      <td>0.963964</td>\n",
       "      <td>{'max_depth': 2, 'max_features': 10, 'n_estima...</td>\n",
       "    </tr>\n",
       "    <tr>\n",
       "      <th>11</th>\n",
       "      <td>0.963714</td>\n",
       "      <td>{'max_depth': 2, 'max_features': 'auto', 'n_es...</td>\n",
       "    </tr>\n",
       "    <tr>\n",
       "      <th>25</th>\n",
       "      <td>0.954955</td>\n",
       "      <td>{'max_depth': 5, 'max_features': 'auto', 'n_es...</td>\n",
       "    </tr>\n",
       "    <tr>\n",
       "      <th>58</th>\n",
       "      <td>0.954705</td>\n",
       "      <td>{'max_depth': None, 'max_features': 'auto', 'n...</td>\n",
       "    </tr>\n",
       "    <tr>\n",
       "      <th>0</th>\n",
       "      <td>0.954705</td>\n",
       "      <td>{'max_depth': 2, 'max_features': 8, 'n_estimat...</td>\n",
       "    </tr>\n",
       "    <tr>\n",
       "      <th>48</th>\n",
       "      <td>0.954705</td>\n",
       "      <td>{'max_depth': None, 'max_features': 8, 'n_esti...</td>\n",
       "    </tr>\n",
       "    <tr>\n",
       "      <th>12</th>\n",
       "      <td>0.954705</td>\n",
       "      <td>{'max_depth': 2, 'max_features': 'auto', 'n_es...</td>\n",
       "    </tr>\n",
       "    <tr>\n",
       "      <th>13</th>\n",
       "      <td>0.954705</td>\n",
       "      <td>{'max_depth': 2, 'max_features': 'auto', 'n_es...</td>\n",
       "    </tr>\n",
       "    <tr>\n",
       "      <th>27</th>\n",
       "      <td>0.954705</td>\n",
       "      <td>{'max_depth': 5, 'max_features': 'auto', 'n_es...</td>\n",
       "    </tr>\n",
       "    <tr>\n",
       "      <th>15</th>\n",
       "      <td>0.954705</td>\n",
       "      <td>{'max_depth': 5, 'max_features': 8, 'n_estimat...</td>\n",
       "    </tr>\n",
       "    <tr>\n",
       "      <th>31</th>\n",
       "      <td>0.954705</td>\n",
       "      <td>{'max_depth': 8, 'max_features': 8, 'n_estimat...</td>\n",
       "    </tr>\n",
       "    <tr>\n",
       "      <th>44</th>\n",
       "      <td>0.945445</td>\n",
       "      <td>{'max_depth': 8, 'max_features': 'auto', 'n_es...</td>\n",
       "    </tr>\n",
       "  </tbody>\n",
       "</table>\n",
       "</div>"
      ],
      "text/plain": [
       "    mean_test_score                                             params\n",
       "57         0.981982  {'max_depth': None, 'max_features': 'auto', 'n...\n",
       "40         0.981982  {'max_depth': 8, 'max_features': 'auto', 'n_es...\n",
       "41         0.972973  {'max_depth': 8, 'max_features': 'auto', 'n_es...\n",
       "55         0.972973  {'max_depth': None, 'max_features': 'auto', 'n...\n",
       "26         0.972973  {'max_depth': 5, 'max_features': 'auto', 'n_es...\n",
       "51         0.972973  {'max_depth': None, 'max_features': 10, 'n_est...\n",
       "59         0.972723  {'max_depth': None, 'max_features': 'auto', 'n...\n",
       "56         0.972723  {'max_depth': None, 'max_features': 'auto', 'n...\n",
       "32         0.963964  {'max_depth': 8, 'max_features': 8, 'n_estimat...\n",
       "33         0.963964  {'max_depth': 8, 'max_features': 8, 'n_estimat...\n",
       "34         0.963964  {'max_depth': 8, 'max_features': 8, 'n_estimat...\n",
       "35         0.963964  {'max_depth': 8, 'max_features': 10, 'n_estima...\n",
       "36         0.963964  {'max_depth': 8, 'max_features': 10, 'n_estima...\n",
       "37         0.963964  {'max_depth': 8, 'max_features': 10, 'n_estima...\n",
       "38         0.963964  {'max_depth': 8, 'max_features': 10, 'n_estima...\n",
       "39         0.963964  {'max_depth': 8, 'max_features': 10, 'n_estima...\n",
       "43         0.963964  {'max_depth': 8, 'max_features': 'auto', 'n_es...\n",
       "42         0.963964  {'max_depth': 8, 'max_features': 'auto', 'n_es...\n",
       "29         0.963964  {'max_depth': 5, 'max_features': 'auto', 'n_es...\n",
       "45         0.963964  {'max_depth': None, 'max_features': 8, 'n_esti...\n",
       "46         0.963964  {'max_depth': None, 'max_features': 8, 'n_esti...\n",
       "47         0.963964  {'max_depth': None, 'max_features': 8, 'n_esti...\n",
       "49         0.963964  {'max_depth': None, 'max_features': 8, 'n_esti...\n",
       "50         0.963964  {'max_depth': None, 'max_features': 10, 'n_est...\n",
       "52         0.963964  {'max_depth': None, 'max_features': 10, 'n_est...\n",
       "53         0.963964  {'max_depth': None, 'max_features': 10, 'n_est...\n",
       "54         0.963964  {'max_depth': None, 'max_features': 10, 'n_est...\n",
       "1          0.963964  {'max_depth': 2, 'max_features': 8, 'n_estimat...\n",
       "30         0.963964  {'max_depth': 8, 'max_features': 8, 'n_estimat...\n",
       "28         0.963964  {'max_depth': 5, 'max_features': 'auto', 'n_es...\n",
       "7          0.963964  {'max_depth': 2, 'max_features': 10, 'n_estima...\n",
       "9          0.963964  {'max_depth': 2, 'max_features': 10, 'n_estima...\n",
       "10         0.963964  {'max_depth': 2, 'max_features': 'auto', 'n_es...\n",
       "6          0.963964  {'max_depth': 2, 'max_features': 10, 'n_estima...\n",
       "5          0.963964  {'max_depth': 2, 'max_features': 10, 'n_estima...\n",
       "4          0.963964  {'max_depth': 2, 'max_features': 8, 'n_estimat...\n",
       "3          0.963964  {'max_depth': 2, 'max_features': 8, 'n_estimat...\n",
       "14         0.963964  {'max_depth': 2, 'max_features': 'auto', 'n_es...\n",
       "2          0.963964  {'max_depth': 2, 'max_features': 8, 'n_estimat...\n",
       "16         0.963964  {'max_depth': 5, 'max_features': 8, 'n_estimat...\n",
       "17         0.963964  {'max_depth': 5, 'max_features': 8, 'n_estimat...\n",
       "18         0.963964  {'max_depth': 5, 'max_features': 8, 'n_estimat...\n",
       "19         0.963964  {'max_depth': 5, 'max_features': 8, 'n_estimat...\n",
       "20         0.963964  {'max_depth': 5, 'max_features': 10, 'n_estima...\n",
       "21         0.963964  {'max_depth': 5, 'max_features': 10, 'n_estima...\n",
       "22         0.963964  {'max_depth': 5, 'max_features': 10, 'n_estima...\n",
       "23         0.963964  {'max_depth': 5, 'max_features': 10, 'n_estima...\n",
       "24         0.963964  {'max_depth': 5, 'max_features': 10, 'n_estima...\n",
       "8          0.963964  {'max_depth': 2, 'max_features': 10, 'n_estima...\n",
       "11         0.963714  {'max_depth': 2, 'max_features': 'auto', 'n_es...\n",
       "25         0.954955  {'max_depth': 5, 'max_features': 'auto', 'n_es...\n",
       "58         0.954705  {'max_depth': None, 'max_features': 'auto', 'n...\n",
       "0          0.954705  {'max_depth': 2, 'max_features': 8, 'n_estimat...\n",
       "48         0.954705  {'max_depth': None, 'max_features': 8, 'n_esti...\n",
       "12         0.954705  {'max_depth': 2, 'max_features': 'auto', 'n_es...\n",
       "13         0.954705  {'max_depth': 2, 'max_features': 'auto', 'n_es...\n",
       "27         0.954705  {'max_depth': 5, 'max_features': 'auto', 'n_es...\n",
       "15         0.954705  {'max_depth': 5, 'max_features': 8, 'n_estimat...\n",
       "31         0.954705  {'max_depth': 8, 'max_features': 8, 'n_estimat...\n",
       "44         0.945445  {'max_depth': 8, 'max_features': 'auto', 'n_es..."
      ]
     },
     "execution_count": 27,
     "metadata": {},
     "output_type": "execute_result"
    }
   ],
   "source": [
    "results = pd.DataFrame(results)[['mean_test_score','params']]\n",
    "results.sort_values(by='mean_test_score',ascending=False)"
   ]
  },
  {
   "cell_type": "code",
   "execution_count": 28,
   "metadata": {},
   "outputs": [
    {
     "data": {
      "text/plain": [
       "GridSearchCV(cv=3, estimator=ExtraTreesClassifier(max_features=8, n_jobs=-1),\n",
       "             n_jobs=-1,\n",
       "             param_grid=[{'max_depth': [2, 5, 8, None],\n",
       "                          'max_features': [8, 10, 'auto'],\n",
       "                          'n_estimators': [10, 20, 50, 100, 150]}])"
      ]
     },
     "execution_count": 28,
     "metadata": {},
     "output_type": "execute_result"
    }
   ],
   "source": [
    "param_grid = [\n",
    "    {'max_features': [8,10,'auto'],\n",
    "     'max_depth':[2,5,8,None],\n",
    "     'n_estimators':[10,20,50,100,150]\n",
    "    }\n",
    "]\n",
    "\n",
    "grid_search = GridSearchCV(estimator=et_clf,\n",
    "                           param_grid = param_grid,\n",
    "                           cv = 3,\n",
    "                           n_jobs=-1\n",
    ")\n",
    "\n",
    "grid_search.fit(X_train, y_train)"
   ]
  },
  {
   "cell_type": "code",
   "execution_count": 29,
   "metadata": {},
   "outputs": [
    {
     "data": {
      "text/plain": [
       "{'max_depth': 5, 'max_features': 8, 'n_estimators': 20}"
      ]
     },
     "execution_count": 29,
     "metadata": {},
     "output_type": "execute_result"
    }
   ],
   "source": [
    "grid_search.best_params_"
   ]
  },
  {
   "cell_type": "code",
   "execution_count": 30,
   "metadata": {},
   "outputs": [
    {
     "data": {
      "text/plain": [
       "0.981981981981982"
      ]
     },
     "execution_count": 30,
     "metadata": {},
     "output_type": "execute_result"
    }
   ],
   "source": [
    "grid_search.best_score_"
   ]
  },
  {
   "cell_type": "code",
   "execution_count": 31,
   "metadata": {},
   "outputs": [],
   "source": [
    "results = grid_search.cv_results_"
   ]
  },
  {
   "cell_type": "code",
   "execution_count": 32,
   "metadata": {},
   "outputs": [
    {
     "data": {
      "text/html": [
       "<div>\n",
       "<style scoped>\n",
       "    .dataframe tbody tr th:only-of-type {\n",
       "        vertical-align: middle;\n",
       "    }\n",
       "\n",
       "    .dataframe tbody tr th {\n",
       "        vertical-align: top;\n",
       "    }\n",
       "\n",
       "    .dataframe thead th {\n",
       "        text-align: right;\n",
       "    }\n",
       "</style>\n",
       "<table border=\"1\" class=\"dataframe\">\n",
       "  <thead>\n",
       "    <tr style=\"text-align: right;\">\n",
       "      <th></th>\n",
       "      <th>mean_test_score</th>\n",
       "      <th>params</th>\n",
       "    </tr>\n",
       "  </thead>\n",
       "  <tbody>\n",
       "    <tr>\n",
       "      <th>16</th>\n",
       "      <td>0.981982</td>\n",
       "      <td>{'max_depth': 5, 'max_features': 8, 'n_estimat...</td>\n",
       "    </tr>\n",
       "    <tr>\n",
       "      <th>56</th>\n",
       "      <td>0.981732</td>\n",
       "      <td>{'max_depth': None, 'max_features': 'auto', 'n...</td>\n",
       "    </tr>\n",
       "    <tr>\n",
       "      <th>10</th>\n",
       "      <td>0.981732</td>\n",
       "      <td>{'max_depth': 2, 'max_features': 'auto', 'n_es...</td>\n",
       "    </tr>\n",
       "    <tr>\n",
       "      <th>2</th>\n",
       "      <td>0.981732</td>\n",
       "      <td>{'max_depth': 2, 'max_features': 8, 'n_estimat...</td>\n",
       "    </tr>\n",
       "    <tr>\n",
       "      <th>11</th>\n",
       "      <td>0.981732</td>\n",
       "      <td>{'max_depth': 2, 'max_features': 'auto', 'n_es...</td>\n",
       "    </tr>\n",
       "    <tr>\n",
       "      <th>44</th>\n",
       "      <td>0.981481</td>\n",
       "      <td>{'max_depth': 8, 'max_features': 'auto', 'n_es...</td>\n",
       "    </tr>\n",
       "    <tr>\n",
       "      <th>38</th>\n",
       "      <td>0.972973</td>\n",
       "      <td>{'max_depth': 8, 'max_features': 10, 'n_estima...</td>\n",
       "    </tr>\n",
       "    <tr>\n",
       "      <th>51</th>\n",
       "      <td>0.972973</td>\n",
       "      <td>{'max_depth': None, 'max_features': 10, 'n_est...</td>\n",
       "    </tr>\n",
       "    <tr>\n",
       "      <th>6</th>\n",
       "      <td>0.972723</td>\n",
       "      <td>{'max_depth': 2, 'max_features': 10, 'n_estima...</td>\n",
       "    </tr>\n",
       "    <tr>\n",
       "      <th>50</th>\n",
       "      <td>0.972723</td>\n",
       "      <td>{'max_depth': None, 'max_features': 10, 'n_est...</td>\n",
       "    </tr>\n",
       "    <tr>\n",
       "      <th>42</th>\n",
       "      <td>0.972723</td>\n",
       "      <td>{'max_depth': 8, 'max_features': 'auto', 'n_es...</td>\n",
       "    </tr>\n",
       "    <tr>\n",
       "      <th>46</th>\n",
       "      <td>0.972723</td>\n",
       "      <td>{'max_depth': None, 'max_features': 8, 'n_esti...</td>\n",
       "    </tr>\n",
       "    <tr>\n",
       "      <th>37</th>\n",
       "      <td>0.972723</td>\n",
       "      <td>{'max_depth': 8, 'max_features': 10, 'n_estima...</td>\n",
       "    </tr>\n",
       "    <tr>\n",
       "      <th>35</th>\n",
       "      <td>0.972723</td>\n",
       "      <td>{'max_depth': 8, 'max_features': 10, 'n_estima...</td>\n",
       "    </tr>\n",
       "    <tr>\n",
       "      <th>15</th>\n",
       "      <td>0.972723</td>\n",
       "      <td>{'max_depth': 5, 'max_features': 8, 'n_estimat...</td>\n",
       "    </tr>\n",
       "    <tr>\n",
       "      <th>14</th>\n",
       "      <td>0.972723</td>\n",
       "      <td>{'max_depth': 2, 'max_features': 'auto', 'n_es...</td>\n",
       "    </tr>\n",
       "    <tr>\n",
       "      <th>1</th>\n",
       "      <td>0.972723</td>\n",
       "      <td>{'max_depth': 2, 'max_features': 8, 'n_estimat...</td>\n",
       "    </tr>\n",
       "    <tr>\n",
       "      <th>24</th>\n",
       "      <td>0.972723</td>\n",
       "      <td>{'max_depth': 5, 'max_features': 10, 'n_estima...</td>\n",
       "    </tr>\n",
       "    <tr>\n",
       "      <th>5</th>\n",
       "      <td>0.972723</td>\n",
       "      <td>{'max_depth': 2, 'max_features': 10, 'n_estima...</td>\n",
       "    </tr>\n",
       "    <tr>\n",
       "      <th>31</th>\n",
       "      <td>0.972723</td>\n",
       "      <td>{'max_depth': 8, 'max_features': 8, 'n_estimat...</td>\n",
       "    </tr>\n",
       "    <tr>\n",
       "      <th>17</th>\n",
       "      <td>0.972472</td>\n",
       "      <td>{'max_depth': 5, 'max_features': 8, 'n_estimat...</td>\n",
       "    </tr>\n",
       "    <tr>\n",
       "      <th>27</th>\n",
       "      <td>0.972472</td>\n",
       "      <td>{'max_depth': 5, 'max_features': 'auto', 'n_es...</td>\n",
       "    </tr>\n",
       "    <tr>\n",
       "      <th>32</th>\n",
       "      <td>0.963714</td>\n",
       "      <td>{'max_depth': 8, 'max_features': 8, 'n_estimat...</td>\n",
       "    </tr>\n",
       "    <tr>\n",
       "      <th>25</th>\n",
       "      <td>0.963714</td>\n",
       "      <td>{'max_depth': 5, 'max_features': 'auto', 'n_es...</td>\n",
       "    </tr>\n",
       "    <tr>\n",
       "      <th>18</th>\n",
       "      <td>0.963714</td>\n",
       "      <td>{'max_depth': 5, 'max_features': 8, 'n_estimat...</td>\n",
       "    </tr>\n",
       "    <tr>\n",
       "      <th>22</th>\n",
       "      <td>0.963714</td>\n",
       "      <td>{'max_depth': 5, 'max_features': 10, 'n_estima...</td>\n",
       "    </tr>\n",
       "    <tr>\n",
       "      <th>45</th>\n",
       "      <td>0.963714</td>\n",
       "      <td>{'max_depth': None, 'max_features': 8, 'n_esti...</td>\n",
       "    </tr>\n",
       "    <tr>\n",
       "      <th>58</th>\n",
       "      <td>0.963714</td>\n",
       "      <td>{'max_depth': None, 'max_features': 'auto', 'n...</td>\n",
       "    </tr>\n",
       "    <tr>\n",
       "      <th>13</th>\n",
       "      <td>0.963714</td>\n",
       "      <td>{'max_depth': 2, 'max_features': 'auto', 'n_es...</td>\n",
       "    </tr>\n",
       "    <tr>\n",
       "      <th>12</th>\n",
       "      <td>0.963714</td>\n",
       "      <td>{'max_depth': 2, 'max_features': 'auto', 'n_es...</td>\n",
       "    </tr>\n",
       "    <tr>\n",
       "      <th>47</th>\n",
       "      <td>0.963714</td>\n",
       "      <td>{'max_depth': None, 'max_features': 8, 'n_esti...</td>\n",
       "    </tr>\n",
       "    <tr>\n",
       "      <th>53</th>\n",
       "      <td>0.963714</td>\n",
       "      <td>{'max_depth': None, 'max_features': 10, 'n_est...</td>\n",
       "    </tr>\n",
       "    <tr>\n",
       "      <th>36</th>\n",
       "      <td>0.963714</td>\n",
       "      <td>{'max_depth': 8, 'max_features': 10, 'n_estima...</td>\n",
       "    </tr>\n",
       "    <tr>\n",
       "      <th>41</th>\n",
       "      <td>0.963463</td>\n",
       "      <td>{'max_depth': 8, 'max_features': 'auto', 'n_es...</td>\n",
       "    </tr>\n",
       "    <tr>\n",
       "      <th>40</th>\n",
       "      <td>0.963463</td>\n",
       "      <td>{'max_depth': 8, 'max_features': 'auto', 'n_es...</td>\n",
       "    </tr>\n",
       "    <tr>\n",
       "      <th>39</th>\n",
       "      <td>0.963463</td>\n",
       "      <td>{'max_depth': 8, 'max_features': 10, 'n_estima...</td>\n",
       "    </tr>\n",
       "    <tr>\n",
       "      <th>48</th>\n",
       "      <td>0.963463</td>\n",
       "      <td>{'max_depth': None, 'max_features': 8, 'n_esti...</td>\n",
       "    </tr>\n",
       "    <tr>\n",
       "      <th>59</th>\n",
       "      <td>0.963463</td>\n",
       "      <td>{'max_depth': None, 'max_features': 'auto', 'n...</td>\n",
       "    </tr>\n",
       "    <tr>\n",
       "      <th>34</th>\n",
       "      <td>0.963463</td>\n",
       "      <td>{'max_depth': 8, 'max_features': 8, 'n_estimat...</td>\n",
       "    </tr>\n",
       "    <tr>\n",
       "      <th>23</th>\n",
       "      <td>0.963463</td>\n",
       "      <td>{'max_depth': 5, 'max_features': 10, 'n_estima...</td>\n",
       "    </tr>\n",
       "    <tr>\n",
       "      <th>19</th>\n",
       "      <td>0.963463</td>\n",
       "      <td>{'max_depth': 5, 'max_features': 8, 'n_estimat...</td>\n",
       "    </tr>\n",
       "    <tr>\n",
       "      <th>21</th>\n",
       "      <td>0.963463</td>\n",
       "      <td>{'max_depth': 5, 'max_features': 10, 'n_estima...</td>\n",
       "    </tr>\n",
       "    <tr>\n",
       "      <th>28</th>\n",
       "      <td>0.963463</td>\n",
       "      <td>{'max_depth': 5, 'max_features': 'auto', 'n_es...</td>\n",
       "    </tr>\n",
       "    <tr>\n",
       "      <th>29</th>\n",
       "      <td>0.963463</td>\n",
       "      <td>{'max_depth': 5, 'max_features': 'auto', 'n_es...</td>\n",
       "    </tr>\n",
       "    <tr>\n",
       "      <th>3</th>\n",
       "      <td>0.954705</td>\n",
       "      <td>{'max_depth': 2, 'max_features': 8, 'n_estimat...</td>\n",
       "    </tr>\n",
       "    <tr>\n",
       "      <th>9</th>\n",
       "      <td>0.954705</td>\n",
       "      <td>{'max_depth': 2, 'max_features': 10, 'n_estima...</td>\n",
       "    </tr>\n",
       "    <tr>\n",
       "      <th>43</th>\n",
       "      <td>0.954454</td>\n",
       "      <td>{'max_depth': 8, 'max_features': 'auto', 'n_es...</td>\n",
       "    </tr>\n",
       "    <tr>\n",
       "      <th>26</th>\n",
       "      <td>0.954454</td>\n",
       "      <td>{'max_depth': 5, 'max_features': 'auto', 'n_es...</td>\n",
       "    </tr>\n",
       "    <tr>\n",
       "      <th>57</th>\n",
       "      <td>0.954454</td>\n",
       "      <td>{'max_depth': None, 'max_features': 'auto', 'n...</td>\n",
       "    </tr>\n",
       "    <tr>\n",
       "      <th>33</th>\n",
       "      <td>0.954454</td>\n",
       "      <td>{'max_depth': 8, 'max_features': 8, 'n_estimat...</td>\n",
       "    </tr>\n",
       "    <tr>\n",
       "      <th>49</th>\n",
       "      <td>0.954454</td>\n",
       "      <td>{'max_depth': None, 'max_features': 8, 'n_esti...</td>\n",
       "    </tr>\n",
       "    <tr>\n",
       "      <th>7</th>\n",
       "      <td>0.954454</td>\n",
       "      <td>{'max_depth': 2, 'max_features': 10, 'n_estima...</td>\n",
       "    </tr>\n",
       "    <tr>\n",
       "      <th>4</th>\n",
       "      <td>0.954454</td>\n",
       "      <td>{'max_depth': 2, 'max_features': 8, 'n_estimat...</td>\n",
       "    </tr>\n",
       "    <tr>\n",
       "      <th>52</th>\n",
       "      <td>0.954454</td>\n",
       "      <td>{'max_depth': None, 'max_features': 10, 'n_est...</td>\n",
       "    </tr>\n",
       "    <tr>\n",
       "      <th>54</th>\n",
       "      <td>0.954454</td>\n",
       "      <td>{'max_depth': None, 'max_features': 10, 'n_est...</td>\n",
       "    </tr>\n",
       "    <tr>\n",
       "      <th>8</th>\n",
       "      <td>0.945696</td>\n",
       "      <td>{'max_depth': 2, 'max_features': 10, 'n_estima...</td>\n",
       "    </tr>\n",
       "    <tr>\n",
       "      <th>55</th>\n",
       "      <td>0.945696</td>\n",
       "      <td>{'max_depth': None, 'max_features': 'auto', 'n...</td>\n",
       "    </tr>\n",
       "    <tr>\n",
       "      <th>30</th>\n",
       "      <td>0.936687</td>\n",
       "      <td>{'max_depth': 8, 'max_features': 8, 'n_estimat...</td>\n",
       "    </tr>\n",
       "    <tr>\n",
       "      <th>20</th>\n",
       "      <td>0.936436</td>\n",
       "      <td>{'max_depth': 5, 'max_features': 10, 'n_estima...</td>\n",
       "    </tr>\n",
       "    <tr>\n",
       "      <th>0</th>\n",
       "      <td>0.936436</td>\n",
       "      <td>{'max_depth': 2, 'max_features': 8, 'n_estimat...</td>\n",
       "    </tr>\n",
       "  </tbody>\n",
       "</table>\n",
       "</div>"
      ],
      "text/plain": [
       "    mean_test_score                                             params\n",
       "16         0.981982  {'max_depth': 5, 'max_features': 8, 'n_estimat...\n",
       "56         0.981732  {'max_depth': None, 'max_features': 'auto', 'n...\n",
       "10         0.981732  {'max_depth': 2, 'max_features': 'auto', 'n_es...\n",
       "2          0.981732  {'max_depth': 2, 'max_features': 8, 'n_estimat...\n",
       "11         0.981732  {'max_depth': 2, 'max_features': 'auto', 'n_es...\n",
       "44         0.981481  {'max_depth': 8, 'max_features': 'auto', 'n_es...\n",
       "38         0.972973  {'max_depth': 8, 'max_features': 10, 'n_estima...\n",
       "51         0.972973  {'max_depth': None, 'max_features': 10, 'n_est...\n",
       "6          0.972723  {'max_depth': 2, 'max_features': 10, 'n_estima...\n",
       "50         0.972723  {'max_depth': None, 'max_features': 10, 'n_est...\n",
       "42         0.972723  {'max_depth': 8, 'max_features': 'auto', 'n_es...\n",
       "46         0.972723  {'max_depth': None, 'max_features': 8, 'n_esti...\n",
       "37         0.972723  {'max_depth': 8, 'max_features': 10, 'n_estima...\n",
       "35         0.972723  {'max_depth': 8, 'max_features': 10, 'n_estima...\n",
       "15         0.972723  {'max_depth': 5, 'max_features': 8, 'n_estimat...\n",
       "14         0.972723  {'max_depth': 2, 'max_features': 'auto', 'n_es...\n",
       "1          0.972723  {'max_depth': 2, 'max_features': 8, 'n_estimat...\n",
       "24         0.972723  {'max_depth': 5, 'max_features': 10, 'n_estima...\n",
       "5          0.972723  {'max_depth': 2, 'max_features': 10, 'n_estima...\n",
       "31         0.972723  {'max_depth': 8, 'max_features': 8, 'n_estimat...\n",
       "17         0.972472  {'max_depth': 5, 'max_features': 8, 'n_estimat...\n",
       "27         0.972472  {'max_depth': 5, 'max_features': 'auto', 'n_es...\n",
       "32         0.963714  {'max_depth': 8, 'max_features': 8, 'n_estimat...\n",
       "25         0.963714  {'max_depth': 5, 'max_features': 'auto', 'n_es...\n",
       "18         0.963714  {'max_depth': 5, 'max_features': 8, 'n_estimat...\n",
       "22         0.963714  {'max_depth': 5, 'max_features': 10, 'n_estima...\n",
       "45         0.963714  {'max_depth': None, 'max_features': 8, 'n_esti...\n",
       "58         0.963714  {'max_depth': None, 'max_features': 'auto', 'n...\n",
       "13         0.963714  {'max_depth': 2, 'max_features': 'auto', 'n_es...\n",
       "12         0.963714  {'max_depth': 2, 'max_features': 'auto', 'n_es...\n",
       "47         0.963714  {'max_depth': None, 'max_features': 8, 'n_esti...\n",
       "53         0.963714  {'max_depth': None, 'max_features': 10, 'n_est...\n",
       "36         0.963714  {'max_depth': 8, 'max_features': 10, 'n_estima...\n",
       "41         0.963463  {'max_depth': 8, 'max_features': 'auto', 'n_es...\n",
       "40         0.963463  {'max_depth': 8, 'max_features': 'auto', 'n_es...\n",
       "39         0.963463  {'max_depth': 8, 'max_features': 10, 'n_estima...\n",
       "48         0.963463  {'max_depth': None, 'max_features': 8, 'n_esti...\n",
       "59         0.963463  {'max_depth': None, 'max_features': 'auto', 'n...\n",
       "34         0.963463  {'max_depth': 8, 'max_features': 8, 'n_estimat...\n",
       "23         0.963463  {'max_depth': 5, 'max_features': 10, 'n_estima...\n",
       "19         0.963463  {'max_depth': 5, 'max_features': 8, 'n_estimat...\n",
       "21         0.963463  {'max_depth': 5, 'max_features': 10, 'n_estima...\n",
       "28         0.963463  {'max_depth': 5, 'max_features': 'auto', 'n_es...\n",
       "29         0.963463  {'max_depth': 5, 'max_features': 'auto', 'n_es...\n",
       "3          0.954705  {'max_depth': 2, 'max_features': 8, 'n_estimat...\n",
       "9          0.954705  {'max_depth': 2, 'max_features': 10, 'n_estima...\n",
       "43         0.954454  {'max_depth': 8, 'max_features': 'auto', 'n_es...\n",
       "26         0.954454  {'max_depth': 5, 'max_features': 'auto', 'n_es...\n",
       "57         0.954454  {'max_depth': None, 'max_features': 'auto', 'n...\n",
       "33         0.954454  {'max_depth': 8, 'max_features': 8, 'n_estimat...\n",
       "49         0.954454  {'max_depth': None, 'max_features': 8, 'n_esti...\n",
       "7          0.954454  {'max_depth': 2, 'max_features': 10, 'n_estima...\n",
       "4          0.954454  {'max_depth': 2, 'max_features': 8, 'n_estimat...\n",
       "52         0.954454  {'max_depth': None, 'max_features': 10, 'n_est...\n",
       "54         0.954454  {'max_depth': None, 'max_features': 10, 'n_est...\n",
       "8          0.945696  {'max_depth': 2, 'max_features': 10, 'n_estima...\n",
       "55         0.945696  {'max_depth': None, 'max_features': 'auto', 'n...\n",
       "30         0.936687  {'max_depth': 8, 'max_features': 8, 'n_estimat...\n",
       "20         0.936436  {'max_depth': 5, 'max_features': 10, 'n_estima...\n",
       "0          0.936436  {'max_depth': 2, 'max_features': 8, 'n_estimat..."
      ]
     },
     "execution_count": 32,
     "metadata": {},
     "output_type": "execute_result"
    }
   ],
   "source": [
    "results = pd.DataFrame(results)[['mean_test_score','params']]\n",
    "results.sort_values(by='mean_test_score',ascending=False)"
   ]
  },
  {
   "cell_type": "code",
   "execution_count": null,
   "metadata": {},
   "outputs": [],
   "source": []
  }
 ],
 "metadata": {
  "kernelspec": {
   "display_name": "Python 3",
   "language": "python",
   "name": "python3"
  },
  "language_info": {
   "codemirror_mode": {
    "name": "ipython",
    "version": 3
   },
   "file_extension": ".py",
   "mimetype": "text/x-python",
   "name": "python",
   "nbconvert_exporter": "python",
   "pygments_lexer": "ipython3",
   "version": "3.8.6"
  }
 },
 "nbformat": 4,
 "nbformat_minor": 4
}
